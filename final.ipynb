{
  "nbformat": 4,
  "nbformat_minor": 0,
  "metadata": {
    "colab": {
      "name": "final",
      "provenance": [],
      "collapsed_sections": [],
      "authorship_tag": "ABX9TyPGukZmi+kUq4IZLHf14WKk",
      "include_colab_link": true
    },
    "kernelspec": {
      "name": "python3",
      "display_name": "Python 3"
    },
    "language_info": {
      "name": "python"
    }
  },
  "cells": [
    {
      "cell_type": "markdown",
      "metadata": {
        "id": "view-in-github",
        "colab_type": "text"
      },
      "source": [
        "<a href=\"https://colab.research.google.com/github/gcasill/dungeons-dragons-data/blob/main/final.ipynb\" target=\"_parent\"><img src=\"https://colab.research.google.com/assets/colab-badge.svg\" alt=\"Open In Colab\"/></a>"
      ]
    },
    {
      "cell_type": "markdown",
      "metadata": {
        "id": "x2C2HbmkNjj8"
      },
      "source": [
        "<h1> Dungeons and Dragons and Data"
      ]
    },
    {
      "cell_type": "code",
      "metadata": {
        "id": "94binY5uNgWJ"
      },
      "source": [
        "import pandas as pd\n",
        "import regex as re\n",
        "import matplotlib.pyplot as plt\n",
        "import seaborn as sns"
      ],
      "execution_count": null,
      "outputs": []
    },
    {
      "cell_type": "markdown",
      "metadata": {
        "id": "l2f55yrONzxZ"
      },
      "source": [
        "<h3> Raw Data </h3>"
      ]
    },
    {
      "cell_type": "code",
      "metadata": {
        "id": "TtEXTIZJN5OK"
      },
      "source": [
        "data = pd.read_csv('https://raw.githubusercontent.com/gcasill/dnddata/master/data-raw/dnd_chars_all.tsv', sep='\\t', header=0)"
      ],
      "execution_count": null,
      "outputs": []
    },
    {
      "cell_type": "code",
      "metadata": {
        "id": "vS8xf2K7cWUF"
      },
      "source": [
        "data.rename(columns={'class': 'Class'}, inplace=True)\n",
        "data.rename(columns={'justClass': 'classes'}, inplace=True)"
      ],
      "execution_count": null,
      "outputs": []
    },
    {
      "cell_type": "code",
      "metadata": {
        "id": "4bR9a764QEJd"
      },
      "source": [
        "#Drop Columns from Data\n",
        "data1 = data.drop(['ip', 'finger', 'hash', 'date','country', 'countryCode', 'processedRace', 'processedSpells', 'alias', 'processedAlignment', 'good', 'lawful', 'choices', 'processedWeapons', 'levelGroup'], axis=1).set_index('name')"
      ],
      "execution_count": null,
      "outputs": []
    },
    {
      "cell_type": "code",
      "metadata": {
        "id": "ojywnI_DWSE4"
      },
      "source": [
        "#Data with 'skills' and 'spells'.\n",
        "skill_spell = data1"
      ],
      "execution_count": null,
      "outputs": []
    },
    {
      "cell_type": "markdown",
      "metadata": {
        "id": "trbf2FK3SHcB"
      },
      "source": [
        "Data minus 'skills', 'spells', and 'Class'.\n",
        "\n"
      ]
    },
    {
      "cell_type": "code",
      "metadata": {
        "id": "Na2ng6a3SNLU"
      },
      "source": [
        "dnd = data1.drop(['skills', 'spells', 'Class'], axis=1)"
      ],
      "execution_count": null,
      "outputs": []
    },
    {
      "cell_type": "markdown",
      "metadata": {
        "id": "B1ZKv2DUaCwY"
      },
      "source": [
        "<h2> Race </h2>"
      ]
    },
    {
      "cell_type": "code",
      "metadata": {
        "id": "q9at0-bNok2z"
      },
      "source": [
        "dnd['race'] = dnd.race.str.replace('[\\(]', '').str.replace('[\\)]', '')"
      ],
      "execution_count": null,
      "outputs": []
    },
    {
      "cell_type": "code",
      "metadata": {
        "id": "93ACnKVTdajT"
      },
      "source": [
        "##Processed Races Original Data\n",
        "#data.processedRace.unique()"
      ],
      "execution_count": null,
      "outputs": []
    },
    {
      "cell_type": "code",
      "metadata": {
        "id": "gSGwz5HmaG9i"
      },
      "source": [
        "##Unquie Race Values Data1\n",
        "#data1.race.unique()"
      ],
      "execution_count": null,
      "outputs": []
    },
    {
      "cell_type": "code",
      "metadata": {
        "id": "cRfVAmNvS0I4"
      },
      "source": [
        "##DND Unique Race Values\n",
        "#dnd.race.unique()"
      ],
      "execution_count": null,
      "outputs": []
    },
    {
      "cell_type": "markdown",
      "metadata": {
        "id": "HakMegmsdx2O"
      },
      "source": [
        "When looking at the player selected race of characters, it is important to note that the data does not define whether the selected race was from a dropdown menu with an option for 'other' or was a blank field for users to generate their own data. By procesing the column 'race' for unique values, it returns a long list of different races. Some of those are variants of a single race, such as 'human': \n",
        "\n",
        "> Human, Human (Dwarf), Synthetic Human, Variant Human, Human 1 inspo, Humana, Making Mark Human, Imaskari Human, Human Variant, Human (Variant), Human/Shou, Human Tiefling (Glasya), Human Hybrid, Human Undertownian Ancestor, Human Undertownian, Human/Marsh-Wiggle, Lineage - Levi/Human, Human Var., Human (variant), Human Imaskari, Human (Variant), 👨 Human, Variant Human , Human Walldweller.\n",
        "\n",
        "In comparison, when looking at the 'processedRace' column, the field for 'human' has been narrowed to just 'human'. It does not account for the 'human variant' option, which is an official and viable player race option as part of the various official DND books and officially supported DNDbeyond app.\n",
        "\n",
        "Individual variations on human should remain separate, but all iterations of 'human variant' should be grouped together and labeled as such. The instance of the emoji should be group to 'human'. 'Human 1 inspo' most likely refers to a  human player character with a single inspiration point; it is a class option a bard can give to others in order to reroll a single d20 roll, or it can be given by the dungeon master (DM) as they see fit to reroll a single d20 roll. The app most likely did not have a space to mark inspiration, so 'Human 1 inspo' can be grouped to 'human'. Based on the the other columns that contain player race as 'Humana', the user was from a Spanish speaking country; 'Humana' can be grouped to 'Human'. 'Human Imaskari' would be the overall grouping for itself and the variant 'Imaskari Human'. The resulting list would become:\n",
        "\n",
        "> Human, Human Variant, Human (Dwarf), Synthetic Human, Making Mark Human, Human Imaskari, Human/Shou, Human Tiefling (Glasya), Human Hybrid, Human Undertownian Ancestor, Human Undertownian, Human/Marsh-Wiggle, Lineage - Levi/Human, Human Walldweller.\n",
        "\n",
        "14 compared to the original 24.\n",
        "\n",
        "A separate table could be created to change the race to 'Human' and a new column be added-Sources-which could contain whether it was 'homebrew' or from an official DND sourcebook, such as 'Player's Handbook' or 'PHB' for short. It would further clean the data and would solve the issue of the 'processedRace' column being too limited."
      ]
    },
    {
      "cell_type": "code",
      "metadata": {
        "id": "09Vtq2JvbYNo"
      },
      "source": [
        "##Replace Human alts\n",
        "dnd['race'] = dnd.race.str.replace('Humana', 'Human').str.replace('Human 1 inspo', 'Human').str.replace('👨\\ Human', 'Human')\n",
        "#dnd[dnd.race.str.contains('👨', na=False)]"
      ],
      "execution_count": null,
      "outputs": []
    },
    {
      "cell_type": "code",
      "metadata": {
        "id": "5PRrvmx6fNvf"
      },
      "source": [
        "##Replace Human Variant alts\n",
        "dnd['race'] = dnd.race.str.replace('Variant Human', 'Human Variant').str.replace('Human (Variant)', 'Human Variant').str.replace('Human Var.', 'Human Variant').str.replace('Human (variant)', 'Human Variant').str.replace('Human (Variant)', 'Human Variant').str.replace('Human Variant\\s', 'Human Variant').str.replace('Human Variantantant', 'Human Variant').str.replace('Human Variantant', 'Human Variant').str.replace('Imaskari Human', 'Human Imaskari')\n",
        "#dnd[dnd.race.str.contains('Human Variant', na=False)]"
      ],
      "execution_count": null,
      "outputs": []
    },
    {
      "cell_type": "markdown",
      "metadata": {
        "id": "fDxeJ-0bqdBB"
      },
      "source": [
        "The same would need to be done for the other player races. There is a wide variety of instances where homebrew options have been inserted, but mostly the content comes from the wide body of official DND sourcebooks. Some of the player races have even been selected from older editions of DND systems, such as Pathfinder as opposed to the most current player system of DND 5e. Within the various player races, some may have moved from Unearthed Arcana to Official; Unearthed Arcana is content that is a rough draft of content that is released for players to explore and test in a version of Beta testing. Unearthed Arcana content may be revised based on feedback and drafted into newer adventures and publications by DND, or it may be removed and never published. There were some instances were player races were identified to be in other languages and were merged with the English version, such as 'Meio-Orc'--Portuguese--to 'Half-Orc'."
      ]
    },
    {
      "cell_type": "code",
      "metadata": {
        "id": "2v8W3hliqXfy"
      },
      "source": [
        "##Replace Elf alts\n",
        "dnd['race'] = dnd.race.str.replace('Wald Elf', 'Wood Elf').str.replace('Shadow Elf', 'Mark of the Shadow Elf').str.replace('Wood ElfAereni', 'Wood Elf Aereni').str.replace('moon Elf', 'Moon Elf').str.replace('Shadar-kair elf', 'Shadar-Kair').str.replace('Dark Elf', 'Drow').str.replace('UA Eladrin', 'Eladrin Elf').str.replace('Drow\\s', 'Drow').str.replace('Eladrin ToF', 'Eladrin Elf').str.replace('Eladrin DMG', 'Eladrin Elf')\n",
        "#.str.replace('Shadar-kair elf', 'Shadar-Kair')\n",
        "#.str.replace('Eladrin', 'Eladrin Elf')\n",
        "#dnd[dnd.race.str.contains('DMG', na=False)]"
      ],
      "execution_count": null,
      "outputs": []
    },
    {
      "cell_type": "code",
      "metadata": {
        "id": "ZEtqW2w4JSBh"
      },
      "source": [
        "##Replace Half-Elf alts\n",
        "dnd['race'] = dnd.race.str.replace('Half-elf', 'Half Elf').str.replace('Half Elf', 'Half-Elf').str.replace('Half-Elf Wood', 'Wood Half-Elf').str.replace('1/2 Elf--Var.', 'Half-Elf Variant').str.replace('Variant Half-Elf', 'Half-Elf Variant').str.replace('Half-ElfDrow', 'Drow Half-Elf').str.replace('Half-Dark Elf', 'Drow Half-Elf').str.replace('Half ElfDrow', 'Drow Half-Elf')\n",
        "#High Elf/Skeleton\n",
        "#Half Elf/Half Siren\n",
        "#dnd[dnd.race.str.contains('Half Elf', na=False)]"
      ],
      "execution_count": null,
      "outputs": []
    },
    {
      "cell_type": "code",
      "metadata": {
        "id": "SYQWXepDLVP5"
      },
      "source": [
        "##Replace Genasi alts\n",
        "dnd['race'] = dnd.race.str.replace('Genasi-null', 'Genasi')\n",
        "#dnd[dnd.race.str.contains('null', na=False)]"
      ],
      "execution_count": null,
      "outputs": []
    },
    {
      "cell_type": "code",
      "metadata": {
        "id": "Y4h9tmP9Lob6"
      },
      "source": [
        "##Replace Half-Orc alts\n",
        "dnd['race'] = dnd.race.str.replace('Halb-Ork', 'Half-Orc').str.replace('Meio-Orc', 'Half-Orc').str.replace('Medio Orco', 'Half-Orc')\n",
        "#dnd[dnd.race.str.contains('Meio', na=False)]"
      ],
      "execution_count": null,
      "outputs": []
    },
    {
      "cell_type": "code",
      "metadata": {
        "id": "CTkdMjxYMAl4"
      },
      "source": [
        "##Replace Dwarf alts\n",
        "dnd['race'] = dnd.race.str.replace('Mountain Dwarf ', 'Mountain Dwarf').str.replace('Gray Dwarf', 'Duergar')\n",
        "#dnd[dnd.race.str.contains('Duergar', na=False)]"
      ],
      "execution_count": null,
      "outputs": []
    },
    {
      "cell_type": "code",
      "metadata": {
        "id": "jhU5k9yUMiY-"
      },
      "source": [
        "##Replace Halfling alts\n",
        "dnd['race'] = dnd.race.str.replace('Lightfoot Halfling\\n', 'Lightfoot Halfling').str.replace('Lightfoot Hin', 'Lightfoot Halfling').str.replace('Hin', 'Halfling').str.replace('Lotus Halfling', 'Lotusden Halfling')\n",
        "#dnd[dnd.race.str.contains('Lotus', na=False)]"
      ],
      "execution_count": null,
      "outputs": []
    },
    {
      "cell_type": "code",
      "metadata": {
        "id": "40686tY0NRAE"
      },
      "source": [
        "##Replace Tiefling alts\n",
        "dnd['race'] = dnd.race.str.replace('Tiefling Lineage - Baal', 'Baalzebul Tiefling').str.replace('Tiefling Levistus', 'Levistus Tiefling').str.replace('Tieffelin', 'Tiefling').str.replace('Tiefling - Zariel', 'Zariel Tiefling').str.replace('Teifling - Levistus', 'Levistus Tiefling')\n",
        "#dnd[dnd.race.str.contains('Zariel', na=False)]"
      ],
      "execution_count": null,
      "outputs": []
    },
    {
      "cell_type": "code",
      "metadata": {
        "id": "Vp_Zw3b9OhN3"
      },
      "source": [
        "##Replace Warforged alts\n",
        "dnd['race'] = dnd.race.str.replace('warforged envoy', 'Warforged Envoy').str.replace('Juggernaut Warforged', 'Warforged Juggernaut').str.replace('Juggernaut', 'Warforged Juggernaut').str.replace('Juggernaut ', 'Warforged Juggernaut').str.replace('Juggeenaut', 'Warforged Juggernaut')\n",
        "#.str.replace('Envoy', 'Warforged Envoy')\n",
        "#dnd[dnd.race.str.contains('Envoy', na=False)]"
      ],
      "execution_count": null,
      "outputs": []
    },
    {
      "cell_type": "code",
      "metadata": {
        "id": "YdHY-F9MTLhq"
      },
      "source": [
        "##Replace Shifter alts\n",
        "dnd['race'] = dnd.race.str.replace('Cambiaformas', 'Shifter').str.replace('Shifer Wildhunt ', 'Wildhunt Shifter').str.replace('Hunt', 'Wildhunt Shifter').str.replace('Shifter Wildhunt', 'Wildhunt Shifter').str.replace('Longtooth', 'Longtooth Shifter').str.replace('Tooth', 'Longtooth Shifter').str.replace('Stride', 'Swiftstride Shifter').str.replace('Hide', 'Beasthide Shifter')\n",
        "#.str.replace('Beasthide', 'Beasthide Shifter')\n",
        "#dnd[dnd.race.str.contains('Beasthide', na=False)]"
      ],
      "execution_count": null,
      "outputs": []
    },
    {
      "cell_type": "code",
      "metadata": {
        "id": "YJu7wZnBVmec"
      },
      "source": [
        "##Replace Yuan-Ti alts\n",
        "dnd['race'] = dnd.race.str.replace('Serpentblood', 'Yuan-Ti Pureblood').str.replace('Yuan-ti pureblood', 'Yuan-Ti Pureblood')\n",
        "#.str.replace('Yuan-Ti', 'Yuan-Ti Pureblood')\n",
        "#dnd[dnd.race.str.contains('Yuan-Ti', na=False)]"
      ],
      "execution_count": null,
      "outputs": []
    },
    {
      "cell_type": "code",
      "metadata": {
        "id": "iNsRgLTvWT_P"
      },
      "source": [
        "##Replace Kobold alts\n",
        "dnd['race'] = dnd.race.str.replace('Winged Kobold urd', 'Urds').str.replace('Kobold Volvo\\'s', 'Kobold')\n",
        "#dnd[dnd.race.str.contains('Volvo', na=False)]"
      ],
      "execution_count": null,
      "outputs": []
    },
    {
      "cell_type": "code",
      "metadata": {
        "id": "MeVfq7w3XC4f"
      },
      "source": [
        "##Replace Loxodon alts\n",
        "dnd['race'] = dnd.race.str.replace('Luxodont', 'Loxodon').str.replace('Luxodon', 'Loxodon')\n",
        "#dnd[dnd.race.str.contains('Loxodon', na=False)]"
      ],
      "execution_count": null,
      "outputs": []
    },
    {
      "cell_type": "code",
      "metadata": {
        "id": "5EDojl2_Xf8C"
      },
      "source": [
        "##Replace Firbolg alts\n",
        "dnd['race'] = dnd.race.str.replace('firbolg', 'Firbolg')\n",
        "#dnd[dnd.race.str.contains('firbolg', na=False)]"
      ],
      "execution_count": null,
      "outputs": []
    },
    {
      "cell_type": "code",
      "metadata": {
        "id": "gaOPg5sQXzEh"
      },
      "source": [
        "##Replace Kenku alts\n",
        "dnd['race'] = dnd.race.str.replace('Kenku/half elf', 'Kenku Half-Elf')\n",
        "#dnd[dnd.race.str.contains('Kenku', na=False)]"
      ],
      "execution_count": null,
      "outputs": []
    },
    {
      "cell_type": "code",
      "metadata": {
        "id": "Uv-TC87JYFe1"
      },
      "source": [
        "##Replace Official PC alts\n",
        "dnd['race'] = dnd.race.str.replace('Leonine', 'Leonin').str.replace('Ogrillon Zombi', 'Ogrillon Zombie').str.replace('Minotaurus', 'Minotaur').str.replace('Dhampire', 'Dhampir').str.replace('Vampire Zendikar', 'Zendikar Vampire').str.replace('Vedalken ', 'Vedalken').str.replace('Violetken', 'Vedalken').str.replace('naga', 'Naga').str.replace('Geth - Zer', 'Gith').str.replace('Geth - Yan', 'Gith').str.replace('Githzerai', 'Gith')\n",
        "#dnd[dnd.race.str.contains('Geth', na=False)]"
      ],
      "execution_count": null,
      "outputs": []
    },
    {
      "cell_type": "code",
      "metadata": {
        "id": "eOHqWlCGeQ4P"
      },
      "source": [
        "##Replace Official Monster alts\n",
        "dnd['race'] = dnd.race.str.replace('Direwolf', 'Dire Wolf').str.replace('Dire wolf', 'Dire Wolf').str.replace('Copper Dragon ', 'Copper Dragon')\n",
        "#dnd[dnd.race.str.contains('Copper', na=False)]"
      ],
      "execution_count": null,
      "outputs": []
    },
    {
      "cell_type": "code",
      "metadata": {
        "id": "qc-Um-RvcgkB"
      },
      "source": [
        "##Replace Van Richten Lineages\n",
        "dnd['race'] = dnd.race.str.replace('Lineage - Levi', 'Levistus Tiefling').str.replace('Lineage - Zari', 'Zariel Tiefling').str.replace('Lineage - Baal', 'Baalzebul Tiefling').str.replace('Lineage - Fier', 'Fierna Tiefling').str.replace('Lineage - Glas', 'Glasya Tiefling').str.replace('Lineage - Glasya', 'Glasya Tiefling').str.replace('Lineage - Disp', 'Dispater Tiefling').str.replace('Lineage - Meph', 'Mephistopheles Tiefling').str.replace('Lineage - Mamm', 'Mammon Tiefling').str.replace('Glasya Tieflingya', 'Glasya Tiefling')\n",
        "#dnd[dnd.race.str.contains('Zariel', na=False)]"
      ],
      "execution_count": null,
      "outputs": []
    },
    {
      "cell_type": "code",
      "metadata": {
        "id": "ld9N-tnCdfnQ"
      },
      "source": [
        "##Replace Marks of Eberron\n",
        "dnd['race'] = dnd.race.str.replace('Detection', 'Mark of the Detection Half-Elf').str.replace('Healing', 'Mark of the Healing Halfling').str.replace('Hospitality', 'Mark of the Hospitality Halfling').str.replace('Making', 'Mark of the Making Halfling').str.replace('Passage', 'Mark of the Passage Human').str.replace('Sentinel', 'Mark of the Sentinel Human').str.replace('Shadow', 'Mark of the Shadow Elf').str.replace('Storm', 'Mark of the Storm Half-Elf').str.replace('Warding', 'Mark of the Warding Dwarf')\n",
        "#Making / Human Making\n",
        "#Shadow\n",
        "#Warding\n",
        "#dnd[dnd.race.str.contains('Warding', na=False)]"
      ],
      "execution_count": null,
      "outputs": []
    },
    {
      "cell_type": "code",
      "metadata": {
        "id": "MLg9HUVleygP"
      },
      "source": [
        "##Replace Homebrew alts\n",
        "dnd['race'] = dnd.race.str.replace('nan', 'NaN').str.replace('RaceName', 'NaN').str.replace('Asgardian ', 'Asgardian').str.replace('Olympian, Ares', 'Ares Olympian').str.replace('Ratfolk white', 'White Ratfolk').str.replace('Ratfolkunderfolk ', 'Ratfolkunderfolk').str.replace('SpiderFolk', 'Spiderfolk')\n",
        "#dnd[dnd.race.str.contains('Spiderfolk', na=False)]"
      ],
      "execution_count": null,
      "outputs": []
    },
    {
      "cell_type": "code",
      "metadata": {
        "id": "xzjhHzqpiY0s"
      },
      "source": [
        "##DND Unique Race Values\n",
        "#dnd.race.unique()"
      ],
      "execution_count": null,
      "outputs": []
    },
    {
      "cell_type": "markdown",
      "metadata": {
        "id": "dgI9s9TOaLSc"
      },
      "source": [
        "<h2> Background </h2>"
      ]
    },
    {
      "cell_type": "markdown",
      "metadata": {
        "id": "-bskwUDKhrGH"
      },
      "source": [
        "The background category for a player character helps to define extra skill sets, proficiencies, and narrative elements. The main DND sourcebook, the Player's Handbook, offers a body of different backgrounds players can choose from. Some of the backgrounds even come with narrative options in the form of a chart that can be rolled on or selected from.\n",
        "\n",
        "*   Acolyte\n",
        "*   Criminal\n",
        "  * Spy\n",
        "  * Blackmailer, Burglar, Enforcer, Fence, Highway robber, Hired killer, Pickpocket, Smuggler\n",
        "* Entertainer\n",
        "  * Gladiator\n",
        "  * Actor, Dancer, Fire-eater, Jester, Juggler, Instrumentalist, Poet, Singer, Storyteller, Tumbler)\n",
        "* Guild Artisan\n",
        "  * Guild Merchant\n",
        "  * Alchemists and apothecaries; Armorers, locksmiths, finesmiths; Brewers, distillers, vintners; Calligraphers, scribes, scriveners; Carpenters, roofers, plasterers; Cartographers, surveyors, chart-makers; Cobblers and shoemakers; Cooks and bakers; Glassblowers and glaziers; Jewelers and gemcutters; Leatherworkers, skinners, tanners; Masons and stonecutters; Painters, limners, sign-makers; Potters and tile-makers; Shipwrights and sailmakers; Smiths and metal-forgers; Tinkers, pewterers, casters; Wagon-makers and wheelwrights; Weavers and dyers; Woodcarvers, coopers, bowyers\n",
        "* Hermit\n",
        "* Noble\n",
        "  * Knight\n",
        "  * Retainers\n",
        "* Outlander\n",
        "  * Forester, Trapper, Homesteader, Guide, Exile or outcast, Bounty hunter, Pilgrim, Tribal nomad, Hunter-gatherer, Tribal marauder\n",
        "* Sage\n",
        "  * Alchemist, Astronomer, Discredited academic, Librarian, Professor, Researcher, Wizard's apprentice, Scribe\n",
        "* Sailor\n",
        "  * Pirate\n",
        "* Soldier\n",
        "  * Officer, Scout, Infantry, Cavalry, Healer, Quartermaster, Standard bearer, Support staff (cook, blacksmith, or the like)\n",
        "* Urchin\n",
        "\n",
        "Other sourcebooks and adventure books may also come with backgrounds that are relevant to the adventure or narrative being told. Some of those backgrounds may build on standard background variant or narrative option in order to give that background a stronger narrative and game play role. For example, 'Bounty hunter' is a narrative option for the 'Outlander', but is given more significance in the Sword Coast Adventurer's Guide and allows players to select 'Urban Bounty Hunter'.\n",
        "\n",
        "While there are many options to select, many will homebrew or create a background that benefits the narrative or game the player character is part of. Those homebrew options may be named similarly or identically to those labeled as official DND content. This can create a problem in delineating between what is homebrew and what is official. Since there is no differentiation, the background field in the app is more than likely a typed-in response.\n",
        "\n",
        "In order to ask questions, hypothesize, analyze, and visualize the data, it was adjusted to reflect homebrew items separately from those that can be found in official DND content. Since 'Exile' is not clearly defined in app, all instances of 'Exile' were attributed to the sub-background of the 'Outlander' background. Had the data been scrapped from an app like DNDbeyond, part of the metadata may have contained a field for source material since DNDbeyond allows a user to toggle downloaded homebrew content on and off.\n",
        "\n",
        "Any background that has a variant that can be selected will have the variant be separate of the race.\n",
        "\n",
        "Similarly to the 'race' field, instances of other languages were identified and changed to match the English counterpart. Some words were unable to be adjusted and were left as is."
      ]
    },
    {
      "cell_type": "code",
      "metadata": {
        "id": "PihFbJ2Tkdkx"
      },
      "source": [
        "##DND Unique Background Values\n",
        "#dnd.background.unique()"
      ],
      "execution_count": null,
      "outputs": []
    },
    {
      "cell_type": "code",
      "metadata": {
        "id": "jGhUg4KFsZty"
      },
      "source": [
        "##Replace Official alts\n",
        "#Sage, Noble, Urban Bounty Hunter, Haunted One, Outlander, Acolyte, City Watch, Urchin\n",
        "#.str.replace('Bounty Hunter', 'Outlander')\n",
        "#.str.replace('City Watch', 'City Watch/Investigator')\n",
        "dnd['background'] = dnd.background.str.replace('Weiser', 'Sage').str.replace('Noblia', 'Noble').str.replace('Noble \\(variant\\)', 'Noble').str.replace('Urban Vigilante', 'Urban Bounty Hunter').str.replace('urban bounty hunter', 'Urban Bounty Hunter').str.replace('haunted one', 'Haunted One').str.replace('Haunted One\\s', 'Haunted One').str.replace('Outlander (Exile)', 'Outlander').str.replace('Exile', 'Outlander').str.replace('Cazarecompensas', 'Outlander').str.replace('Acolyte of Kord', 'Acolyte').str.replace('Acolyte\\s', 'Acolyte').str.replace('City Watch: Investigator', 'City Watch/Investigator').str.replace('Urchin\\n', 'Urchin')\n",
        "#dnd[dnd.background.str.contains('\\n', na=False)]"
      ],
      "execution_count": null,
      "outputs": []
    },
    {
      "cell_type": "code",
      "metadata": {
        "id": "b05OLw3gw_7G"
      },
      "source": [
        "##Replace Official 2 alts\n",
        "#Soldier, Far Traveler, Criminal, Folk Hero, Faction Agent, Charlatan, House Agent, Knight of the Order, Archaeologist, Uthgardt Tribe Member, Rakdos Cultist\n",
        "#.str.replace('Tribe Member', 'Uthgardt Tribe Member')\n",
        "#.str.replace('Rakdos cultist', 'Rakdos Cultist')\n",
        "dnd['background'] = dnd.background.str.replace('Soldat', 'Soldier').str.replace('Soldier - infantry', 'Soldier').str.replace('Soldado', 'Soldier').str.replace('Soldier - Healer', 'Soldier').str.replace('Far traveler', 'Far Traveler').str.replace('Criminal/Hired Killer', 'Criminal').str.replace('Smuggler', 'Criminal').str.replace('Volksheldin', 'Folk Hero').str.replace('Agente de Facción', 'Faction Agent').str.replace('Faction agent', 'Faction Agent').str.replace('Scharlatan', 'Charlatan').str.replace('House Agent /Harpers', 'House Agent').str.replace('Knight Of The Order', 'Knight of the Order').str.replace('Archeologist', 'Archaeologist').str.replace('Archaelogist', 'Archaeologist').str.replace('Tribal Member', 'Uthgardt Tribe Member').str.replace('Rakdos', 'Rakdos Cultist').str.replace('\\🎑 Folk Hero', 'Folk Hero')\n",
        "#dnd[dnd.background.str.contains('Rakdos', na=False)]"
      ],
      "execution_count": null,
      "outputs": []
    },
    {
      "cell_type": "code",
      "metadata": {
        "id": "FgUjcSwy7fYn"
      },
      "source": [
        "##Replace Official 3 alts\n",
        "#Guild Artisan\n",
        "dnd['background'] = dnd.background.str.replace('Guild Artisian', 'Guild Artisan').str.replace('Guild Artisan: Cooper', 'Guild Artisan').str.replace('Tinkerer', 'Guild Artisan').str.replace('Apothecary', 'Guild Artisan').str.replace('Trapmaster/locksmith\\s', 'Guild Artisan').str.replace('Blacksmith', 'Guild Artisan').str.replace('Dwarven Brewer', 'Guild Artisan').str.replace('Guild Trader', 'Guild Artisan')\n",
        "#dnd[dnd.background.str.contains('Guild Artisan', na=False)]"
      ],
      "execution_count": null,
      "outputs": []
    },
    {
      "cell_type": "code",
      "metadata": {
        "id": "VRV3v7tBwUny"
      },
      "source": [
        "##Replace Official Variant alts\n",
        "#Knight, Spy, Gladiator, Pirate\n",
        "dnd['background'] = dnd.background.str.replace('Cavaleiro', 'Knight').str.replace('Criminal - Spy', 'Spy').str.replace('Entertainer \\(Gladiator\\)', 'Gladiator').str.replace('Gladiator \\(Entertainor\\)', 'Gladiator').str.replace('Entertainer- gladiator', 'Gladiator').str.replace('Entertainer, Gladiator Variant', 'Gladiator').str.replace('Sailor: Pirate', 'Pirate').str.replace('Spy \\(criminal\\)', 'Spy').str.replace('Sailor \\(Pirate\\)', 'Pirate')\n",
        "#dnd[dnd.background.str.contains('Pirate', na=False)]"
      ],
      "execution_count": null,
      "outputs": []
    },
    {
      "cell_type": "code",
      "metadata": {
        "id": "6jFWwG94-X7D"
      },
      "source": [
        "##Replace Blanks alts\n",
        "#.str.replace('\\-', 'NaN')\n",
        "#.str.replace('Custom', 'NaN')\n",
        "dnd['background'] = dnd.background.str.replace('nan', 'NaN').str.replace('custome', 'NaN').str.replace('BackgroundName', 'NaN')\n",
        "#dnd[dnd.background.str.contains('NaN', na=False)]"
      ],
      "execution_count": null,
      "outputs": []
    },
    {
      "cell_type": "code",
      "metadata": {
        "id": "fgn0SZVqAP9t"
      },
      "source": [
        "##Replace Homebrew alts\n",
        "dnd['background'] = dnd.background.str.replace('House Lyrandra Soldier\\s', 'House Lyrandra Soldiers').str.replace('Guild Artisan - Engineer', 'Engineer').str.replace('Erudita', 'Scholar').str.replace('Student of magic', 'Student of Magic').str.replace('Ex-Cultist \\(Custom\\)', 'Ex-Cultist').str.replace('Wagonmaster\\s', 'Wagonmaster').str.replace('Farmer\\s', 'Farmer').str.replace('Triton emmisary', 'Triton Emmisary').str.replace('Criminal - Con Artist', 'Con Artist').str.replace('Trade Sherrif', 'Trade Sherriff').str.replace('Spoiled brat', 'Spoiled Brat').str.replace('shirt hoarder', 'Shirt Hoarder').str.replace('Custom \\(Far Traveler\\)', 'Far Traveler Custom').str.replace('Haunted One\\(custom\\)', 'Haunted One Custom').str.replace('Spy/Outlander', 'Outlander Spy').str.replace('Faction Agent/Outlander', 'Outlander Faction Agent').str.replace('Aristocrat\\s', 'Aristocrat').str.replace('Dragon Scholer', 'Dragon Scholar').str.replace('Former pilot', 'Former Pilot').str.replace('clan hero', 'Clan Hero')\n",
        "#dnd[dnd.background.str.contains('Custom', na=False)]"
      ],
      "execution_count": null,
      "outputs": []
    },
    {
      "cell_type": "code",
      "metadata": {
        "id": "2tgF87S7sBjO"
      },
      "source": [
        "##DND Unique Background Values\n",
        "#dnd.background.unique()"
      ],
      "execution_count": null,
      "outputs": []
    },
    {
      "cell_type": "markdown",
      "metadata": {
        "id": "U18Ih9pBaQ4j"
      },
      "source": [
        "<h2> Subclass </h2>"
      ]
    },
    {
      "cell_type": "markdown",
      "metadata": {
        "id": "L5bggPYyK2qD"
      },
      "source": [
        "The 'subclass' field refers to the type of path or variant a player character could choose for a single class. New subclasses can be found in sourcebooks other than the Player's Handbook and can also be found in adventure modules. Occasionally, Unearth Arcana playtest content will be released; the material will either be modified via feedback and placed into an official sourcebook or adventure, or it will be archived and be considered homebrew. On top of official and playtest content, there is always the option to homebrew, or create, a subclass for a particular class.\n",
        "\n",
        "Player characters are not stuck with their choice in class when choosing their characters. At any point--with Dungeon Master approval--a player character could begin to multiclass. Multiclassing is where a player character learns levels of a new class as they level up their characters. Multiclassed player characters have access to the previous number of levels in their starting class, as well as levels they unlock in their new class.\n",
        "\n",
        "For example, a Human Monk player character could start an adventure module or story at level 1 Monk. By the time the character gets to level 5, the player may decide their character has been learning new skills or watching other player characters in the narrative and would like to multiclass. At this point, the player character would be level 4 Monk | level 1 Class. Some players choose to multiclass for the purpose of narrative, to try a new class, or to play the game in a more serious manner of stats--such as the amount of damage dealt.\n",
        "\n",
        "The subclass field was cleaned like the previous fields due to the nature of multilingual instances, spelling and punctuation, and adjusting variants."
      ]
    },
    {
      "cell_type": "code",
      "metadata": {
        "id": "FhyFKExUKD-l"
      },
      "source": [
        "##DND Unique Subclass Values\n",
        "#dnd.subclass.unique()"
      ],
      "execution_count": null,
      "outputs": []
    },
    {
      "cell_type": "markdown",
      "metadata": {
        "id": "x3AsdRTVPBJm"
      },
      "source": [
        "In order to get a better understanding of what subclasses a player might have selected from a particular class, it was necessary to split up the multiclassed player characters. Instances like 'College of Glamour|The Seeker' became 'College of Glamour' and 'The Seeker' as individual rows both attributed to the same ID number.\n",
        "\n",
        "The vast majority of the subclasses entered were from official DND sourcebooks or adventure modules. Some of the content added was from Unearthed Arcana that was archived and not printed. A portion of the subclasses were homebrew."
      ]
    },
    {
      "cell_type": "code",
      "metadata": {
        "id": "GMF34xYYO3ir"
      },
      "source": [
        "dnd['Sub'] = dnd['subclass'].str.split('|')\n",
        "Sub = dnd.explode('Sub')"
      ],
      "execution_count": null,
      "outputs": []
    },
    {
      "cell_type": "code",
      "metadata": {
        "id": "TwokoAisQJRB"
      },
      "source": [
        "#minus subclass, move Sub addition\n",
        "Sub = Sub[['race', 'background', 'classes', 'Sub', 'level', 'feats', 'HP', 'AC', 'Str', 'Dex', 'Con', 'Int', 'Wis', 'Cha', 'alignment', 'weapons', 'castingStat' ]]"
      ],
      "execution_count": null,
      "outputs": []
    },
    {
      "cell_type": "code",
      "metadata": {
        "id": "y8Ec1OD4QI1M"
      },
      "source": [
        "##Replace Subclass alts\n",
        "#.str.replace('Hexblade', 'The Hexblade')\n",
        "#.str.replace('Drunken Master', 'Way of the Drunken Master')\n",
        "#.str.replace('Forge', 'Forge Domain')\n",
        "#.str.replace('Phoenix', 'Phoenix Sorcery')\n",
        "#.str.replace('Storm Herald', 'Path of the Storm Herald')\n",
        "#.str.replace('Soul Knife', 'Soulknife')\n",
        "#.str.replace('Raven Queen', 'The Raven Queen')\n",
        "Sub['Sub'] = Sub.Sub.str.replace('OathBreaker', 'Oathbreaker').str.replace('Circle of spores', 'Circle of Spores').str.replace('Phoenix Sorcery1', 'Phoenix Sorcery').str.replace('Graviturgy', 'Graviturgy Magic').str.replace('Theurgy', 'Theurgy Magic').str.replace('Theurgy Wizard', 'Theurgy Magic').str.replace('Genie Patron', 'The Genie').str.replace('Chronurgy', 'Chronurgy Magic').str.replace('gunslinger', 'Gunslinger').str.replace('Dark Carnival College', 'College of Dark Carnival').str.replace('Stone', 'Stone Sorcery').str.replace('Sharpshooter', 'Gunslinger').str.replace('Stone', 'Stone Sorcery').str.replace('Sea', 'Sea Sorcery').str.replace('Metal', 'Metal Sorcery').str.replace('shieldman', 'Shieldman')\n",
        "#Sub[Sub.Sub.str.contains('Hexblade', na=False)]"
      ],
      "execution_count": null,
      "outputs": []
    },
    {
      "cell_type": "code",
      "metadata": {
        "id": "jY9Ka2X_RSkf"
      },
      "source": [
        "##DND Unique Subclass Values\n",
        "#Sub.Sub.unique()"
      ],
      "execution_count": null,
      "outputs": []
    },
    {
      "cell_type": "markdown",
      "metadata": {
        "id": "vF8t62wdspRM"
      },
      "source": [
        "<h2> Class </h2>"
      ]
    },
    {
      "cell_type": "markdown",
      "metadata": {
        "id": "TCS9m3VKrG9D"
      },
      "source": [
        "During the cleaning and normalizing of the data, it was necessary to switch analysis from the column 'class' to 'justClass'--relabeled to 'Class' and 'classes' respectively. 'Class' kept each player character class with its corresponding level in tact between the delimiter ' | '; Rogue 4 | Bard 2. 'classes' removed the corresponding level from each player character class; Rogue | Bard.\n",
        "\n",
        "In terms of data analysis, the individual levels across multiclassed player characters could track the change in player character classes and at which level those occurred.\n",
        "\n",
        "Instead of looking at multiclass levels, the only instance of the level of a player character is their overall level recorded in 'level'; 'Rogue 4 | Bard 2' with overall level being 6, became 'Rogue | Bard' with overall level being 6. When calling for instances of a particular class and charting it across levels, it no longer gives an accurate representation of how many player characters are at a particular level for an individual class; it instead charts the overall progress of a player character's level across the field of 'level'.\n",
        "\n",
        "This can become an issue when looking at the instances of multiclassed player characters that goes above 2 classes."
      ]
    },
    {
      "cell_type": "code",
      "metadata": {
        "colab": {
          "base_uri": "https://localhost:8080/"
        },
        "id": "PQ8wQyE9uzxf",
        "outputId": "cf03dbfd-6a8d-48ca-854e-dfd5d7bf8f81"
      },
      "source": [
        "##Classes table\n",
        "test1 = dnd[['classes']]\n",
        "#test1['indx'] = test1.index\n",
        "test1['classes'] = test1['classes'].str.split('|')\n",
        "t1 = test1.explode('classes')"
      ],
      "execution_count": null,
      "outputs": [
        {
          "output_type": "stream",
          "text": [
            "/usr/local/lib/python3.7/dist-packages/ipykernel_launcher.py:4: SettingWithCopyWarning: \n",
            "A value is trying to be set on a copy of a slice from a DataFrame.\n",
            "Try using .loc[row_indexer,col_indexer] = value instead\n",
            "\n",
            "See the caveats in the documentation: https://pandas.pydata.org/pandas-docs/stable/user_guide/indexing.html#returning-a-view-versus-a-copy\n",
            "  after removing the cwd from sys.path.\n"
          ],
          "name": "stderr"
        }
      ]
    },
    {
      "cell_type": "code",
      "metadata": {
        "colab": {
          "base_uri": "https://localhost:8080/"
        },
        "id": "ocSiZ1ZkxfJ6",
        "outputId": "a8aa3938-11cf-4bb2-d6ea-52443746a9fe"
      },
      "source": [
        "##Subclass table\n",
        "test2 = dnd[['subclass']]\n",
        "#test2['indx'] = test2.index\n",
        "test2['subclass'] = test2['subclass'].str.split('|')\n",
        "t2 = test2.explode('subclass')"
      ],
      "execution_count": null,
      "outputs": [
        {
          "output_type": "stream",
          "text": [
            "/usr/local/lib/python3.7/dist-packages/ipykernel_launcher.py:4: SettingWithCopyWarning: \n",
            "A value is trying to be set on a copy of a slice from a DataFrame.\n",
            "Try using .loc[row_indexer,col_indexer] = value instead\n",
            "\n",
            "See the caveats in the documentation: https://pandas.pydata.org/pandas-docs/stable/user_guide/indexing.html#returning-a-view-versus-a-copy\n",
            "  after removing the cwd from sys.path.\n"
          ],
          "name": "stderr"
        }
      ]
    },
    {
      "cell_type": "code",
      "metadata": {
        "id": "j_yCj79aoqTz"
      },
      "source": [
        "##JOINED 'classes' and 'subclass'\n",
        "cs = pd.concat([t1, t2], axis=1)"
      ],
      "execution_count": null,
      "outputs": []
    },
    {
      "cell_type": "code",
      "metadata": {
        "id": "lZ3h-7h7I_uF"
      },
      "source": [
        "##DND Table Without 'subclass' and 'classes'\n",
        "tb = Sub[['race', 'background', 'level', 'feats', 'HP', 'AC', 'Str', 'Dex', 'Con', 'Int', 'Wis', 'Cha', 'alignment', 'weapons', 'castingStat']]"
      ],
      "execution_count": null,
      "outputs": []
    },
    {
      "cell_type": "code",
      "metadata": {
        "id": "8iQGr9nFJsz4"
      },
      "source": [
        "##DND Table With 'subclass' and 'classes' ADDED BACK after JOIN\n",
        "fin = pd.concat([tb, cs], axis=1)\n",
        "final = fin[['race', 'classes', 'subclass', 'background', 'level', 'feats', 'HP', 'AC', 'Str', 'Dex', 'Con', 'Int', 'Wis', 'Cha', 'weapons', 'castingStat', 'alignment']]"
      ],
      "execution_count": null,
      "outputs": []
    },
    {
      "cell_type": "code",
      "metadata": {
        "id": "NZHpv46HOveh"
      },
      "source": [
        "##DND Table With 'weapons' split [f1 new official]\n",
        "final['weapons'] = final['weapons'].str.split('|')\n",
        "f1 = final.explode('weapons')"
      ],
      "execution_count": null,
      "outputs": []
    },
    {
      "cell_type": "code",
      "metadata": {
        "id": "5bzHV1eQbwTA"
      },
      "source": [
        "##DND Unique Class Values\n",
        "#f1.classes.unique()"
      ],
      "execution_count": null,
      "outputs": []
    },
    {
      "cell_type": "markdown",
      "metadata": {
        "id": "57plvYUfT1cl"
      },
      "source": [
        "Class, along with race, effects how a player character fights and engages with battle. Class typically covers a set group of core fighting styles, with and without magic, but can be added to with Unearthed Arcana playtest material, official sourcebooks and adventure modules, and through the use of homebrew. In the instance of the class 'Mystic', it had been an Unearth Arcana playtest class, but was archived and not published. In the instance of the 'Blood Hunter' class, it is not Unearthed Arcana nor is it part of any official DND sourcebooks or adventure modules, but it is not considered homebrew content; 'Blood Hunter' initially began as homebrew content--created by DM Matt Mercer of Critical Role--but has become seen in the DND community as unofficial official DND content. The class can be found on DNDbeyond's app, as well as the app that the dataset was pulled from, which lends itself to the fact that players are able to make use the class in an otherwise official capacity through DND apps."
      ]
    },
    {
      "cell_type": "code",
      "metadata": {
        "id": "lsRqFOTZSRJB"
      },
      "source": [
        "##Replace Class alts\n",
        "f1['classes'] = f1.classes.str.replace('\\nMonk', 'Monk').str.replace('\\nCleric', 'Cleric').str.replace('\\nBard', 'Bard').str.replace('\\nRogue', 'Rogue').str.replace('\\nBarbarian', 'Barbarian').str.replace('\\nDruid', 'Druid').str.replace('\\nSorcerer', 'Sorcerer').str.replace('\\nFighter', 'Fighter').str.replace('\\nWizard', 'Wizard').str.replace('\\nWarlock', 'Warlock').str.replace('commoner', 'Commoner').str.replace('Crafting Commoner', 'Commoner')\n",
        "#f1[f1.classes.str.contains('Commoner', na=False)]"
      ],
      "execution_count": null,
      "outputs": []
    },
    {
      "cell_type": "markdown",
      "metadata": {
        "id": "6oirUdCfabsi"
      },
      "source": [
        "<h2> Feats </h2>"
      ]
    },
    {
      "cell_type": "markdown",
      "metadata": {
        "id": "y4RcMnYlWZii"
      },
      "source": [
        "Since many players chose to multiclass, some of their classes have the ability to access a feat at a particular level. Some player characters also have access to feats as part of a racial feature. It was necessary to split and clean the feats column, much like the rest of the content in the dataset. Most of the feats were official DND content; some of the feats were either homebrew, archived Unearthed Arcana, or were aspects taken from others fields--such as 'Deep Gnome Magic' which would be a function of the Gnome subclass and is not an optional feat."
      ]
    },
    {
      "cell_type": "code",
      "metadata": {
        "id": "ukKBbbxFVtnX"
      },
      "source": [
        "##DND Table With 'feats' split [f2 new official]\n",
        "f1['feats'] = f1['feats'].str.split('|')\n",
        "f2 = f1.explode('feats')"
      ],
      "execution_count": null,
      "outputs": []
    },
    {
      "cell_type": "code",
      "metadata": {
        "id": "dh4jREBvVhPv"
      },
      "source": [
        "#f2.feats.unique()"
      ],
      "execution_count": null,
      "outputs": []
    },
    {
      "cell_type": "code",
      "metadata": {
        "id": "fFQKfWhDaed3"
      },
      "source": [
        "##Replace Feats alts\n",
        "f2['feats'] = f2.feats.str.replace('Quick-Fingered', 'Quick Fingered')\n",
        "#f2[f2.feats.str.contains('Quick Fingered', na=False)]"
      ],
      "execution_count": null,
      "outputs": []
    },
    {
      "cell_type": "markdown",
      "metadata": {
        "id": "B36C3sKUagK2"
      },
      "source": [
        "<h2> Weapons </h2>"
      ]
    },
    {
      "cell_type": "markdown",
      "metadata": {
        "id": "-52GKYrRb-mK"
      },
      "source": [
        "The Weapons field is by far the most widely varied column in the entire dataset. The most general, basic weapon types that are used in official DND sourcebooks and adventure models serve as a basis for more specialized weapons that can be found across the same sources. As player characters adventure or visit towns, they can purchase, discover, or steal other weapons. Some of those weapons may have names--such as Excalibur from the Arthur mythos. Weapons, like many other things, can be homebrew content, too.\n",
        "\n",
        "In order to clean the weapons, the general weapon types had to be searched for first in order to narrow each weapon type into a more manageable data point. For example, 'Flame Tongue Dagger' became 'Dagger' and anything with an added damage bonus to it--+2--became 'Dagger +1' regardless if it had been entered as a +1 or +5. This was done in order to make each weapon type more manageable to explore, analyze, and chart in a visualization.\n",
        "\n",
        "While many of the weapon types were cleaned, there were many that were unable to be cleaned due to a lack of clarity on whether it was an official DND weapon or item, a homebrew weapon or item, or a spell. Notably, some of the official DND spells can be called and located within 'weapons'. This may be due to the fact that the app allowed for players to input items in a blank field as opposed to selecting items from a drop down menu. The spells that are located within 'weapons' may be official DND content or may be homebrew. Some spells allow magic users to conjure blades or other such weapons which created a problem in cleaning the field; some instances were able to be adjusted to the generic 'Sword' type, or were left alone due to a lack of clarity or instance of a spell.\n",
        "\n",
        "As previously discussed, some of the data was in other languages. Many of the items were able to be cleaned to English, but some were not.\n",
        "\n",
        "There were also instances of data from other columns placed in 'weapons'. Many player characters that had a Warlock placed their Warlock Pact Blade or Pact Weapon within 'weapons'. Some data from 'Feats' was also placed here. If any of the player characters were not of humanoid descent, other special features, attributes, and attacks were placed in 'weapons' as well."
      ]
    },
    {
      "cell_type": "code",
      "metadata": {
        "id": "hFsIjK5BOles"
      },
      "source": [
        "f2['weapons'] = f2.weapons.str.replace('[\\(]', '').str.replace('[\\)]', '').str.replace('[\\']', '').str.replace('[\\“]', '').str.replace('[\\”]', '').str.replace('[\\*]', '').str.replace('[\\,]', '').str.replace('[\\’]', '')"
      ],
      "execution_count": null,
      "outputs": []
    },
    {
      "cell_type": "code",
      "metadata": {
        "colab": {
          "base_uri": "https://localhost:8080/"
        },
        "id": "GoPB0NVPTU3w",
        "outputId": "47cacf12-c9b8-4e2d-a6dd-1eb48088e5ed"
      },
      "source": [
        "f1.weapons.value_counts()\n",
        "#f1[f1.weapons.str.contains('Dag', na=False)].weapons.unique()"
      ],
      "execution_count": null,
      "outputs": [
        {
          "output_type": "execute_result",
          "data": {
            "text/plain": [
              "Dagger                 3654\n",
              "Crossbow, light        1677\n",
              "Shortsword             1588\n",
              "Rapier                 1512\n",
              "Handaxe                1410\n",
              "                       ... \n",
              "Silver shortsword         1\n",
              "+1Shortsword Rw           1\n",
              "Noble’s Rapier            1\n",
              "Poison Strike             1\n",
              "Monk Unarmed Strike       1\n",
              "Name: weapons, Length: 1263, dtype: int64"
            ]
          },
          "metadata": {
            "tags": []
          },
          "execution_count": 58
        }
      ]
    },
    {
      "cell_type": "code",
      "metadata": {
        "colab": {
          "base_uri": "https://localhost:8080/"
        },
        "id": "R3We8M5mWEUM",
        "outputId": "9822f337-66f3-4fca-d14f-e1fdfdabb190"
      },
      "source": [
        "f2.weapons.value_counts()\n",
        "#f2[f2.weapons.str.contains('Dag', na=False)].weapons.unique()"
      ],
      "execution_count": null,
      "outputs": [
        {
          "output_type": "execute_result",
          "data": {
            "text/plain": [
              "Dagger                  4186\n",
              "Crossbow light          1923\n",
              "Quarterstaff            1854\n",
              "Rapier                  1813\n",
              "Shortsword              1733\n",
              "                        ... \n",
              "2Melfs Acid Arrow          1\n",
              "Lightning of Javelin       1\n",
              "+1Crossbow hand RS         1\n",
              "Longbow Red                1\n",
              "Monk Unarmed Strike        1\n",
              "Name: weapons, Length: 1257, dtype: int64"
            ]
          },
          "metadata": {
            "tags": []
          },
          "execution_count": 59
        }
      ]
    },
    {
      "cell_type": "code",
      "metadata": {
        "id": "fR_y3z00dH9p"
      },
      "source": [
        "##Normalized Daggers\n",
        "f2['weapons'] = f2.weapons.str.replace('Dagger Of Venom \\+1', 'Dagger +1').str.replace('Dagger\\+1', 'Dagger +1').str.replace('Dagger \\+2', 'Dagger +1').str.replace('Dagger silver\\+1', 'Dagger +1').str.replace('\\+1Longtooth Dagger', 'Dagger +1').str.replace('\\+1 Dagger', 'Dagger +1').str.replace('\\+ 1 Dagger', 'Dagger +1').str.replace('\\+2 Dagger', 'Dagger').str.replace('KnifeDagger \\+1', 'Dagger +1').str.replace('Dagger \\+ 1', 'Dagger +1').str.replace('Dagger Icicle \\+1', 'Dagger +1').str.replace('Pact Dagger \\+1', 'Dagger +1')\n",
        "f2['weapons'] = f2.weapons.str.replace('Daggerx2', 'Dagger').str.replace('Dagger 2H', 'Dagger').str.replace('Offhand Dagger', 'Dagger').str.replace('Dagger x12', 'Dagger').str.replace('Dragon Dagger Cold', 'Dagger').str.replace('Throwing Dagger x30', 'Dagger').str.replace('DaggerR', 'Dagger').str.replace('DaggerM', 'Dagger').str.replace('\\sOffhand Dagger', 'Dagger').str.replace('Daga', 'Dagger').str.replace('Masterwork Dagger', 'Dagger').str.replace('Dagger Continual Flame', 'Dagger').str.replace('Dagger X 3', 'Dagger').str.replace('Thrown Dagger', 'Dagger').str.replace('Magical Dagger', 'Dagger').str.replace('2x Dragon Daggers Psn', 'Dagger').str.replace('Off Hand Dagger', 'Dagger').str.replace('Thieves Dagger', 'Dagger').str.replace('TWF Off-Hand Dagger', 'Dagger').str.replace('Bastard Dagger', 'Dagger').str.replace('Explosive Dagger', 'Dagger').str.replace('Dire Dagger', 'Dagger').str.replace('Gem Encrusted Dagger', 'Dagger').str.replace('Bookmark Dagger', 'Dagger').str.replace('Silvered Dagger', 'Dagger').str.replace('Dagger X2', 'Dagger').str.replace('Animated Dagger X10', 'Dagger').str.replace('Sword breaker Dagger', 'Dagger').str.replace('Ice Dagger', 'Dagger').str.replace('SH.\\ Dagger', 'Dagger').str.replace('Hooked Dagger', 'Dagger').str.replace('ScaleDeep Dagger', 'Dagger').str.replace('Dagger X6', 'Dagger').str.replace('CleaverDagger', 'Dagger').str.replace('Dagger of Incision', 'Dagger').str.replace('Dragon Edge Dagger', 'Dagger').str.replace('Adamantine Dagger', 'Dagger').str.replace('Lucky Dagger', 'Dagger').str.replace('Dagger Of Smite', 'Dagger').str.replace('Dagger Of Warning', 'Dagger').str.replace('Dagger of Returning', 'Dagger').str.replace('Dragonbone Dagger', 'Dagger').str.replace('Shadow Dagger', 'Dagger').str.replace('Dagger Of Silence', 'Dagger').str.replace('Snakes Tongue Dagger', 'Dagger').str.replace('Poison Dagger', 'Dagger').str.replace('Dagger of Warning', 'Dagger').str.replace('Loss Dagger Shars Heart', 'Dagger').str.replace('Odins Dagger', 'Dagger').str.replace('Emilys Dagger', 'Dagger').str.replace('Goblin Dagger Stake Taker', 'Dagger').str.replace('Whispers Dagger', 'Dagger').str.replace('Dagger Of Returning', 'Dagger').str.replace('\\sDagger', 'Dagger').str.replace('Dagger Of Venom', 'Dagger').str.replace('Dagger silvered', 'Dagger').str.replace('Dagger x 3', 'Dagger').str.replace('Dagger of Venom', 'Dagger').str.replace('SilverDagger', 'Dagger').str.replace('Dagger silver', 'Dagger')\n",
        "#f2[f2.weapons.str.contains('Dag', na=False)].weapons.unique()"
      ],
      "execution_count": null,
      "outputs": []
    },
    {
      "cell_type": "code",
      "metadata": {
        "id": "xm32qS_KaYJQ"
      },
      "source": [
        "##Normalized Darts\n",
        "f2['weapons'] = f2.weapons.str.replace('Dartx20', 'Dart').str.replace('Dart X10', 'Dart').str.replace('Reverse Daruk', 'Dart').str.replace('Feather Dart', 'Dart').str.replace('Dardo', 'Dart').str.replace('Dart x 10', 'Dart').str.replace('8 Dart', 'Dart').str.replace('Paralysis Dart', 'Dart').str.replace('Dart Perseguidor', 'Dart').str.replace('Dart Perseguidor/elétrico ', 'Dart').str.replace('Sharp Darts', 'Dart').str.replace('\\+1 Dart', 'Dart +1')\n",
        "#f2[f2.weapons.str.contains('Dar', na=False)].weapons.unique()"
      ],
      "execution_count": null,
      "outputs": []
    },
    {
      "cell_type": "code",
      "metadata": {
        "id": "w7H10QrXcDFM"
      },
      "source": [
        "##Normalized Crossbow\n",
        "f2['weapons'] = f2.weapons.str.replace('\\+5 Crossbow heavy', 'Heavy Crossbow +1').str.replace('\\+2 Crossbow heavy', 'Heavy Crossbow +1').str.replace('Light Crossbow\\+2', 'Light Crossbow +1').str.replace('Crossbow \\+2', 'Crossbow +1').str.replace('\\+2 Cross Sharpshooter', 'Crossbow +1').str.replace('\\+1 Hand Cross Sharp', 'Hand Crossbow +1').str.replace('HandCross slvr\\+1grav', 'Hand Crossbow +1').str.replace('Crossbow heavy \\+1', 'Heavy Crossbow +1').str.replace('\\+1Hand Crossbow RS', 'Hand Crossbow +1').str.replace('Hand Crossbow\\+1', 'Hand Crossbow +1').str.replace('Hand Crossbow\\+2', 'Hand Crossbow +1').str.replace('\\+1 Hand Crossbow', 'Hand Crossbow +1').str.replace('Light Crossbow\\+1', 'Light Crossbow +1')\n",
        "f2['weapons'] = f2.weapons.str.replace('Crossbow light', 'Light Crossbow').str.replace('Crossbow hand', 'Hand Crossbow').str.replace('Crossbow Hand', 'Hand Crossbow').str.replace('Crossbow Heavy', 'Heavy Crossbow').str.replace('Crossbow Light', 'Light Crossbow').str.replace('Crossbow Heavy', 'Heavy Crossbow').str.replace('Crossbow heavy Musket', 'Musket').str.replace('Crossbow light Pistol', 'Pistol').str.replace('Crossbow hand Sharp', 'Hand Crossbow').str.replace('Crossbow Hand Sharp', 'Hand Crossbow').str.replace('Pact Crossbow', 'Crossbow').str.replace('Crossbow Of Laughing', 'Crossbow').str.replace('Arkens Crossbow', 'Crossbow').str.replace('Autoloading Scimitar Hand Crossbow', 'Hand Crossbow').str.replace('Silver Crossbow Light', 'Light Crossbow').str.replace('Hand CrossbowFrag', 'Hand Crossbow').str.replace('Gray-Crossbow', 'Crossbow').str.replace('B\\.A\\. Hand Crossbow', 'Hand Crossbow').str.replace('Hand Crossbow Pistol', 'Pistol').str.replace('Crossbow heavy Sniper Rifle', 'Sniper Rifle').str.replace('Light Crossbow Large Rifle', 'Rifle').str.replace('Light Crossbow Mwk reroll 1', 'Light Crossbow').str.replace('Rep\\. Light Crossbow', 'Light Crossbow').str.replace('SH\\. Hand Crossbow', 'Hand Crossbow').str.replace('Crossbow Grey', 'Crossbow').str.replace('Ascension Crossbow', 'Crossbow').str.replace('Light Crossbow Pistol', 'Pistol').str.replace('Hand Crossbow Sharp', 'Hand Crossbow').str.replace('Silver Light Crossbow', 'Light Crossbow').str.replace('Light Crossbow\\s', 'Light Crossbow').str.replace('Crossbow heavy', 'Heavy Crossbow').str.replace('Light Crossbow\\+1', 'Light Crossbow +1')\n",
        "#f2[f2.weapons.str.contains('Cross', na=False)].weapons.unique()"
      ],
      "execution_count": null,
      "outputs": []
    },
    {
      "cell_type": "code",
      "metadata": {
        "id": "ZW6knDaqkduH"
      },
      "source": [
        "##Normalized Quarterstaff\n",
        "f2['weapons'] = f2.weapons.str.replace('Quarterstaff S', 'Quarterstaff').str.replace('Iron Quarterstaff', 'Quarterstaff').str.replace('2h Quarterstaff', 'Quarterstaff').str.replace('Quarterstaff SE', 'Quarterstaff').str.replace('Quarterstaff 2h\\=d8', 'Quarterstaff').str.replace('Quarterstaff One-Handed', 'Quarterstaff').str.replace('Quarterstaff Two-Handed', 'Quarterstaff').str.replace('Shillelagh Quarterstaff', 'Quarterstaff').str.replace('Quarterstaff w\\/Shilleleagh', 'Quarterstaff').str.replace('Quarterstaff 2h', 'Quarterstaff').str.replace('QuarterstaffE', 'Quarterstaff').str.replace('Quarterstaff s', 'Quarterstaff').str.replace('Lighting Quarterstaff', 'Quarterstaff').str.replace('Quaterstaff', 'Quarterstaff').str.replace('Quarterstaff - 2h', 'Quarterstaff').str.replace('Quarterstaffhi', 'Quarterstaff').str.replace('Staff Of Defense Quarterstaff', 'Quarterstaff').str.replace('Mercenarys Magic Quarterstaff', 'Quarterstaff').str.replace('Quarterstaff\\.', 'Quarterstaff').str.replace('staff Of The Woodlands', 'Quarterstaff')\n",
        "#.str.replace('staff', 'Quarterstaff')\n",
        "#f2[f2.weapons.str.contains('staff', na=False)].weapons.unique()"
      ],
      "execution_count": null,
      "outputs": []
    },
    {
      "cell_type": "code",
      "metadata": {
        "id": "uIodYnjvnr30"
      },
      "source": [
        "##Normalized Rapier\n",
        "f2['weapons'] = f2.weapons.str.replace('\\+2 Rapier Drow', 'Rapier +1').str.replace('Rapier \\+1 x2', 'Rapier +1').str.replace('\\+1 Rapier', 'Rapier +1').str.replace('Masterwork Rapier \\+1', 'Rapier +1').str.replace('Rapier \\+2', 'Rapier +1').str.replace('Rapier Mwk \\+1/-', 'Rapier +1').str.replace('\\+2 Hex Rapier X2', 'Rapier +1').str.replace('Rapier\\+1', 'Rapier +1')\n",
        "f2['weapons'] = f2.weapons.str.replace('Mini Rapier', 'Rapier').str.replace('Dragon Bone Rapier', 'Rapier').str.replace('Dreamthorn Dalquor Rapier', 'Rapier').str.replace('Dads Rapier', 'Rapier').str.replace('Pact Rapier', 'Rapier').str.replace('Rapier Undead', 'Rapier').str.replace('Rapierstock', 'Rapier').str.replace('Rapier 2', 'Rapier').str.replace('Rapier attuned', 'Rapier').str.replace('MRapier', 'Rapier').str.replace('Mordida Gélida Rapieira', 'Rapier').str.replace('RapierMH', 'Rapier').str.replace('RapierOH', 'Rapier').str.replace('Poisonous Rapier', 'Rapier').str.replace('Nobles Rapier', 'Rapier').str.replace('Rapierone 1d8 is radiant', 'Rapier').str.replace('Silvered Rapier', 'Rapier').str.replace('Vicious Rapier', 'Rapier').str.replace('Rapier of Wounding', 'Rapier').str.replace('Rapier X3', 'Rapier')\n",
        "#f2[f2.weapons.str.contains('Rap', na=False)].weapons.unique()"
      ],
      "execution_count": null,
      "outputs": []
    },
    {
      "cell_type": "code",
      "metadata": {
        "id": "ZpQYV8naqe4p"
      },
      "source": [
        "##Normalized Shortsword\n",
        "f2['weapons'] = f2.weapons.str.replace('Shortsword silver\\+1', 'Shortsword +1').str.replace('\\+1Shortsword Rw', 'Shortsword +1').str.replace('Shortsword \\+2', 'Shortsword +1').str.replace('\\+1Shortsword Lostsword', 'Shortsword +1').str.replace('Shortsword \\+ 2', 'Shortsword +1').str.replace('\\+1 Shortsword', 'Shortsword +1').str.replace('\\+2 Shortsword', 'Shortsword +1').str.replace('B\\.A\\. \\+2 Shortsword', 'Shortsword +1').str.replace('Shortsword X2\\+\\?1', 'Shortsword +1')\n",
        "f2['weapons'] = f2.weapons.str.replace('Shortsword Second', 'Shortsword').str.replace('Shortswordx2', 'Shortsword').str.replace('Shortsword 2', 'Shortsword').str.replace('Shortsword ofhand', 'Shortsword').str.replace('Royal Shortsword', 'Shortsword').str.replace('Shortsword Off Hand', 'Shortsword').str.replace('Shortsword Silver', 'Shortsword').str.replace('Silver Shortsword', 'Shortsword').str.replace('Shortsword SmokeandFire', 'Shortsword').str.replace('Off Hand Shortsword', 'Shortsword').str.replace('Adment\\. Shortsword', 'Shortsword').str.replace('B\\.A\\. Shortsword', 'Shortsword').str.replace('F\\.E\\. Shortsword', 'Shortsword').str.replace('B\\.A\\. F\\.E Shortsword', 'Shortsword').str.replace('TWF Off-Hand Shortsword', 'Shortsword').str.replace('Shortsword Gfb \\+ Sa', 'Shortsword').str.replace('Shortsword BB \\+ SA', 'Shortsword').str.replace('Shortsword Blk', 'Shortsword').str.replace('Shortsword Prata', 'Shortsword').str.replace('Red Dragons Shortsword', 'Shortsword').str.replace('Silver shortsword', 'Shortsword').str.replace('Shortsword Bonus Action', 'Shortsword').str.replace('Dragon Shortsword', 'Shortsword').str.replace('Shortsword Of Warning', 'Shortsword').str.replace('Shortsword offhand', 'Shortsword').str.replace('Shortsword\\s', 'Shortsword')\n",
        "#f2[f2.weapons.str.contains('hortsword', na=False)].weapons.unique()"
      ],
      "execution_count": null,
      "outputs": []
    },
    {
      "cell_type": "code",
      "metadata": {
        "id": "IfytdsWXuNpn"
      },
      "source": [
        "##Normalized Longsword\n",
        "f2['weapons'] = f2.weapons.str.replace('Butter \\+2 Longsword', 'Longsword +1').str.replace('Butter \\+2 Longsword 2h', 'Longsword +1').str.replace('Longsword \\+3', 'Longsword +1').str.replace('\\+1 Longsword', 'Longsword +1').str.replace('Talon Orc-biter \\+1\\-2 Longsword', 'Longsword +1').str.replace('Longsword \\+1 V', 'Longsword +1').str.replace('\\+1 Longsword 2H', 'Longsword +1').str.replace('\\+1 Longsword 1H', 'Longsword +1').str.replace('Longsword \\+1 2h', 'Longsword +1').str.replace('Longsword \\+1 2H', 'Longsword +1').str.replace('Longsword \\+1 1H', 'Longsword +1')\n",
        "f2['weapons'] = f2.weapons.str.replace('Elven Longsword', 'Longsword').str.replace('Valden Longsword', 'Longsword').str.replace('Valden Longsword 2 Handed', 'Longsword').str.replace('Black Dragon Longsword', 'Longsword').str.replace('Longsword Valden', 'Longsword').str.replace('Hexblade Longsword', 'Longsword').str.replace('Pact Longsword', 'Longsword').str.replace('Longsword - FT', 'Longsword').str.replace('Talon Longsword', 'Longsword').str.replace('Dancing Longsword Of Sore Feet', 'Longsword').str.replace('Longsword Kopis', 'Longsword').str.replace('H\\.C\\. Longsword', 'Longsword').str.replace('2H H\\.C\\. Longsword', 'Longsword').str.replace('Longsword 2 Handed', 'Longsword').str.replace('2H Longsword', 'Longsword').str.replace('Longsword One Hand', 'Longsword').str.replace('Longsword Two Hands', 'Longsword').str.replace('Longsword Talon', 'Longsword').str.replace('Longsword Silvered', 'Longsword').str.replace('Kensei Longsword', 'Longsword').str.replace('Longsword of Arms', 'Longsword').str.replace('Longsword 2hand', 'Longsword').str.replace('Longsword2h', 'Longsword').str.replace('Longsword Flametongue', 'Longsword').str.replace('Longsword Ocean', 'Longsword').str.replace('Longsword of Mourning', 'Longsword').str.replace('Longsword Of Wounding', 'Longsword').str.replace('Revans Longsword', 'Longsword').str.replace('Aestus MH Longsword', 'Longsword').str.replace('Frigidum OH Longsword', 'Longsword').str.replace('Dragonspine Longsword', 'Longsword').str.replace('Silver Longsword W\\/ Jeweled Hilt', 'Longsword').str.replace('Flametongue Longsword', 'Longsword').str.replace('Silvered Longsword', 'Longsword').str.replace('Longsword Of Arms', 'Longsword')\n",
        "#f2[f2.weapons.str.contains('ongsword', na=False)].weapons.unique()"
      ],
      "execution_count": null,
      "outputs": []
    },
    {
      "cell_type": "code",
      "metadata": {
        "id": "M95ax9J1xlB3"
      },
      "source": [
        "##Normalized Battleaxe\n",
        "f2['weapons'] = f2.weapons.str.replace('1h Crested Battleaxe \\+1', 'Battleaxe +1').str.replace('2h Crested Battleaxe \\+1', 'Battleaxe +1').str.replace('Summoned Battleaxe \\+1', 'Battleaxe +1').str.replace('Battleaxe Dwarven \\+2', 'Battleaxe +1').str.replace('Battleaxe \\+1 Rage', 'Battleaxe +1').str.replace('\\+2 Battleaxe', 'Battleaxe +1')\n",
        "f2['weapons'] = f2.weapons.str.replace('Battleaxe In Rage', 'Battleaxe').str.replace('Flaming Battleaxe', 'Battleaxe').str.replace('Hew Battleaxe', 'Battleaxe').str.replace('Battleaxe Of Warning', 'Battleaxe').str.replace('Battleaxe Versitile', 'Battleaxe').str.replace('Battleaxe Of Detonations', 'Battleaxe').str.replace('Battletaxe', 'Battleaxe').str.replace('Battleaxe 1H', 'Battleaxe').str.replace('Battleaxe 2H', 'Battleaxe').str.replace('Kopesh Battleaxe', 'Battleaxe').str.replace('Battleaxe 2H Dwarven', 'Battleaxe').str.replace('Battleaxe Silvered', 'Battleaxe').str.replace('Magma Battleaxe', 'Battleaxe').str.replace('Battleaxe 2h', 'Battleaxe').str.replace('Battleaxe Rage', 'Battleaxe').str.replace('Versatile Battleaxe', 'Battleaxe').str.replace('Battleaxe Dwarven', 'Battleaxe').str.replace('Battleaxe\\s', 'Battleaxe')\n",
        "#f2[f2.weapons.str.contains('attle', na=False)].weapons.unique()"
      ],
      "execution_count": null,
      "outputs": []
    },
    {
      "cell_type": "code",
      "metadata": {
        "id": "-EWv1ht_ztCT"
      },
      "source": [
        "##Normalized Handaxe\n",
        "f2['weapons'] = f2.weapons.str.replace('Handaxe\\+1', 'Handaxe +1')\n",
        "f2['weapons'] = f2.weapons.str.replace('Handaxe x2', 'Handaxe').str.replace('Handaxe Rage', 'Handaxe').str.replace('RAGE Handaxe', 'Handaxe').str.replace('Handaxe Sil', 'Handaxe').str.replace('Handaxe2', 'Handaxe').str.replace('Guild Handaxe', 'Handaxe').str.replace('Handaxes 2x', 'Handaxe').str.replace('\\\\n\\s Handaxe', 'Handaxe').str.replace('Handaxe\\s', 'Handaxe')\n",
        "#f2[f2.weapons.str.contains('andaxe', na=False)].weapons.unique()"
      ],
      "execution_count": null,
      "outputs": []
    },
    {
      "cell_type": "code",
      "metadata": {
        "id": "It4_dLjs1Jsy"
      },
      "source": [
        "##Normalized Greatsword\n",
        "f2['weapons'] = f2.weapons.str.replace('Greatsword\\+1', 'Greatsword +1').str.replace('\\+1 Greatsword', 'Greatsword +1')\n",
        "f2['weapons'] = f2.weapons.str.replace('Jadarai Greatsword', 'Greatsword').str.replace('R Greatsword', 'Greatsword').str.replace('Pact Greatsword', 'Greatsword').str.replace('Greatsword Of Life', 'Greatsword').str.replace('Greatsword Silvered', 'Greatsword').str.replace('GreatswordRo1Ro2', 'Greatsword').str.replace('Greatsword of Duma', 'Greatsword').str.replace('Silver Greatsword', 'Greatsword').str.replace('Eclipse Greatsword of the Stars', 'Greatsword').str.replace('Dragonspine Greatsword', 'Greatsword').str.replace('Clevlands Greatsword', 'Greatsword').str.replace('Greenhilt Greatsword', 'Greatsword').str.replace('Skyforged Steel Greatsword', 'Greatsword').str.replace('Greatsword ro1ro2', 'Greatsword').str.replace('Blizzard Greatsword', 'Greatsword').str.replace('Terminus Greatsword', 'Greatsword').str.replace('Terminus Greatsword non organic', 'Greatsword').str.replace('Greatsword Pact', 'Greatsword').str.replace('The Joker Greatsword', 'Greatsword').str.replace('Greatsword\\?', 'Greatsword').str.replace('Flame Greatsword', 'Greatsword').str.replace('Rage Flame Greatsword', 'Greatsword').str.replace('Crit Flame Greatsword', 'Greatsword').str.replace('Greatsword Ro1Ro2', 'Greatsword').str.replace('Greatsword Of Duma', 'Greatsword').str.replace('Greatsword non organic', 'Greatsword').str.replace('Rage Greatsword', 'Greatsword').str.replace('Crit Greatsword', 'Greatsword').str.replace('Greatsword\\s', 'Greatsword')\n",
        "#f2[f2.weapons.str.contains('reatsword', na=False)].weapons.unique()"
      ],
      "execution_count": null,
      "outputs": []
    },
    {
      "cell_type": "code",
      "metadata": {
        "id": "8cdYH57n3hVc"
      },
      "source": [
        "##Normalized Longbow\n",
        "f2['weapons'] = f2.weapons.str.replace('Longbow \\+2', 'Longbow +1').str.replace('Sharpshooter Longbow \\+2', 'Longbow +1').str.replace('\\+2Longbow', 'Longbow +1').str.replace('Longbow \\+ 1', 'Longbow +1').str.replace('Longbow\\+1', 'Longbow +1').str.replace('\\+2 Longbow', 'Longbow +1').str.replace('Pact Longbow \\+1', 'Longbow +1').str.replace('Longbow \\+3', 'Longbow +1').str.replace('Longbow X2\\+\\?1', 'Longbow +1').str.replace('Sharpshooter Longbow \\+1', 'Longbow +1')\n",
        "f2['weapons'] = f2.weapons.str.replace('Max Longbow SS', 'Longbow').str.replace('HEX 2 Longbow', 'Longbow').str.replace('Oversized Longbow', 'Longbow').str.replace('Longbow of Flying', 'Longbow').str.replace('Magic Longbow', 'Longbow').str.replace('Giants Bane Longbow', 'Longbow').str.replace('Senpii Longbow', 'Longbow').str.replace('F\\.E Longbow', 'Longbow').str.replace('S\\.S\\. F\\.E\\. Longbow', 'Longbow').str.replace('S\\.S\\. Longbow', 'Longbow').str.replace('Metal Longbow', 'Longbow').str.replace('Longbow-Harmony', 'Longbow').str.replace('Pact Of The Blade Hexblade Longbow', 'Longbow').str.replace('Longbow Of Flying', 'Longbow').str.replace('Cleric Longbow', 'Longbow').str.replace('Longbow Full Volley', 'Longbow').str.replace('Longbow O Warning', 'Longbow').str.replace('Artifact Longbow', 'Longbow').str.replace('Longbow Frost-Flame', 'Longbow').str.replace('Longbow Red', 'Longbow').str.replace('Aestusfrigidum Longbow', 'Longbow').str.replace('Longbow Light', 'Longbow').str.replace('Elven Longbow', 'Longbow').str.replace('Longbow Sharpshooter', 'Longbow').str.replace('Fenthras Longbow', 'Longbow').str.replace('Scoped Longbow', 'Longbow')\n",
        "#f2[f2.weapons.str.contains('ongbow', na=False)].weapons.unique()"
      ],
      "execution_count": null,
      "outputs": []
    },
    {
      "cell_type": "code",
      "metadata": {
        "id": "iMNRGVv355Ps"
      },
      "source": [
        "##Normalized Shortbow\n",
        "f2['weapons'] = f2.weapons.str.replace('Shortbow\\+1', 'Shorbow +1').str.replace('Pact Shortbow \\+2', 'Shortbow +1').str.replace('\\+1Shortbow', 'Shortbow +1')\n",
        "f2['weapons'] = f2.weapons.str.replace('Composite Shortbow', 'Shortbow').str.replace('Shortbow 2', 'Shortbow').str.replace('Shortbow of Versatility', 'Shortbow').str.replace('Serpent Shortbow', 'Shortbow').str.replace('Stolen Shortbow', 'Shortbow')\n",
        "#f2[f2.weapons.str.contains('hortbow', na=False)].weapons.unique()"
      ],
      "execution_count": null,
      "outputs": []
    },
    {
      "cell_type": "code",
      "metadata": {
        "id": "nbr3Z7jT607e"
      },
      "source": [
        "##Normalized Scimitar\n",
        "f2['weapons'] = f2.weapons.str.replace('\\+2 Scimitar', 'Scimitar +1').str.replace('Scimitar \\+3', 'Scimitar +1')\n",
        "f2['weapons'] = f2.weapons.str.replace('Fire Scimitar', 'Scimitar').str.replace('Scimitar Meat Cleaver', 'Scimitar').str.replace('Scimitar magical', 'Scimitar').str.replace('Flaming Scimitar', 'Scimitar').str.replace('Falchion Scimitar', 'Scimitar').str.replace('Flame Scimitar', 'Scimitar').str.replace('2 Silver Scimitars', 'Scimitar').str.replace('Scimitar of Life Stealing', 'Scimitar').str.replace('Scimitar Of The Sands', 'Scimitar').str.replace('Scimitar x2', 'Scimitar').str.replace('Summers Dance Scimitar', 'Scimitar').str.replace('Scimitar Flametongue', 'Scimitar').str.replace('Scimitar Frostbrand', 'Scimitar').str.replace('Honed Scimitar', 'Scimitar').str.replace('Silver Scimitars', 'Scimitar').str.replace('Flame Blade Scimitar', 'Scimitar').str.replace('Silvered Scimitar', 'Scimitar').str.replace('Scimitar Of Life Stealing', 'Scimitar').str.replace('Double Scimitar', 'Double-Bladed Scimitar').str.replace('Scimitar\\s', 'Scimitar')\n",
        "#f2[f2.weapons.str.contains('cimitar', na=False)].weapons.unique()"
      ],
      "execution_count": null,
      "outputs": []
    },
    {
      "cell_type": "code",
      "metadata": {
        "id": "Ho3xMbet8j8N"
      },
      "source": [
        "##Normalized Greataxe\n",
        "f2['weapons'] = f2.weapons.str.replace('Toothache Greataxe \\+1', 'Greataxe +1').str.replace('RagnorakGreataxe \\+2', 'Greataxe +1').str.replace('Greataxe Plus 1', 'Greataxe +1').str.replace('Greataxe\\+1', 'Greataxe +1')\n",
        "f2['weapons'] = f2.weapons.str.replace('Greataxe - Richard', 'Greataxe').str.replace('Greataxe In Rage', 'Greataxe').str.replace('Greataxe Rage', 'Greataxe').str.replace('Cold Greataxe', 'Greataxe').str.replace('RAGE Greataxe', 'Greataxe').str.replace('Greataxe Of Judgment', 'Greataxe').str.replace('Greataxe vs Giant', 'Greataxe').str.replace('Stormsunder Greataxe', 'Greataxe')\n",
        "#f2[f2.weapons.str.contains('reataxe', na=False)].weapons.unique()"
      ],
      "execution_count": null,
      "outputs": []
    },
    {
      "cell_type": "code",
      "metadata": {
        "id": "E0clkyL79fM5"
      },
      "source": [
        "##Normalized Warhammer\n",
        "f2['weapons'] = f2.weapons.str.replace('R Warhammer x3 Crit \\+1', 'Warhammer +1').str.replace('Warhammer x3 Crit \\+1', 'Warhammer +1').str.replace('Warhammer \\+ 1', 'Warhammer +1')\n",
        "f2['weapons'] = f2.weapons.str.replace('Ancestral Howling Warhammer', 'Warhammer').str.replace('Warhammer Piedade', 'Warhammer').str.replace('Warhammer Of Thunder And Lightning', 'Warhammer').str.replace('Warhammer Of Chaos\\s', 'Warhammer').str.replace('Giant Slayer Warhammer', 'Warhammer').str.replace('Warhammer 2hand', 'Warhammer').str.replace('Warhammer 2Hnd', 'Warhammer').str.replace('Warhammer Ver', 'Warhammer').str.replace('Seekers Warhammer', 'Warhammer').str.replace('Silver Warhammer', 'Warhammer').str.replace('Warhammer2', 'Warhammer').str.replace('Warhammer of Earthshatter', 'Warhammer').str.replace('Silvered Warhammer', 'Warhammer').str.replace('Trogdors Warhammer\\🚫', 'Warhammer').str.replace('Dwarven Warhammer2d', 'Warhammer').str.replace('Dwarven Warhammerd', 'Warhammer')\n",
        "#f2[f2.weapons.str.contains('arhammer', na=False)].weapons.unique()"
      ],
      "execution_count": null,
      "outputs": []
    },
    {
      "cell_type": "code",
      "metadata": {
        "id": "WvBPCEss-70-"
      },
      "source": [
        "##Normalized Other Hammer\n",
        "f2['weapons'] = f2.weapons.str.replace('\\+2 Thrown Hammer', 'Light Hammer +2').str.replace('\\+1 Mithral Hammer', 'Warhammer +1').str.replace('\\+1 Mithral Hammer 19', 'Warhammer +1').str.replace('Light Hammer\\+2', 'Light Hammer +1').str.replace('Warhammer \\+1 19', 'Warhammer +1')\n",
        "f2['weapons'] = f2.weapons.str.replace('Light hammer', 'Light Hammer').str.replace('Polehammer Of Storms', 'Warhammer').str.replace('Grosser Kriegshammer', 'Greathammer').str.replace('Throwing hammer', 'Light Hammer').str.replace('R Greathammer', 'Greathammer').str.replace('Hammer Improvised', 'Light Hammer').str.replace('Warghammer', 'Warhammer').str.replace('Dwarven Hammer', 'Warhammer').str.replace('Hammer Thrown', 'Light Hammer').str.replace('Smiths Hammer', 'Light Hammer').str.replace('Throwing Hammer', 'Light Hammer').str.replace('Hammer Of The Railclan', 'Warhammer').str.replace('Startail Hammer', 'Warhammer').str.replace('Chained Hammer', 'Warhammer').str.replace('Hammer Of Thunderbolts', 'Warhammer').str.replace('Banehammer', 'Warhammer').str.replace('Lighthammer That Comes Back', 'Light Hammer').str.replace('War Hammer', 'Warhammer').str.replace('Light Hammer\\s', 'Light Hammer').str.replace('Maul Sledgehammer', 'Maul')\n",
        "#f2[f2.weapons.str.contains('ammer', na=False)].weapons.unique()"
      ],
      "execution_count": null,
      "outputs": []
    },
    {
      "cell_type": "code",
      "metadata": {
        "id": "fh52kssg8m8v"
      },
      "source": [
        "##Normalized Greatclub\n",
        "f2['weapons'] = f2.weapons.str.replace('RAGE Greatclub \\+2', 'Greatclub +1').str.replace('Greatclub \\+2', 'Greatclub +1')\n",
        "#f2[f2.weapons.str.contains('reatclub', na=False)].weapons.unique()"
      ],
      "execution_count": null,
      "outputs": []
    },
    {
      "cell_type": "code",
      "metadata": {
        "id": "BQtnFoq486ip"
      },
      "source": [
        "##Normalized Javelin\n",
        "f2['weapons'] = f2.weapons.str.replace('Javelin Of Lightning', 'Javelin').str.replace('Javelin Of Returning', 'Javelin').str.replace('Javelin of Lightning', 'Javelin').str.replace('Javelin Throwing', 'Javelin').str.replace('Lightning of Javelin', 'Javelin').str.replace('Javelin 5', 'Javelin').str.replace('9x Javelin', 'Javelin').str.replace('2 Javelins', 'Javelin').str.replace('Javelin Lightning', 'Javelin').str.replace('3 Javelin', 'Javelin').str.replace('Javelin5', 'Javelin')\n",
        "#f2[f2.weapons.str.contains('avelin', na=False)].weapons.unique()"
      ],
      "execution_count": null,
      "outputs": []
    },
    {
      "cell_type": "code",
      "metadata": {
        "id": "WuVdde0D9Ehx"
      },
      "source": [
        "##Normalized Maul\n",
        "f2['weapons'] = f2.weapons.str.replace('Silvered Maul \\+1', 'Maul +1').str.replace('\\+1 Maul', 'Maul +1').str.replace('Maul \\+3', 'Maul +1').str.replace('Maul \\+3 GWM \\-5', 'Maul +1').str.replace('Bone Maul', 'Maul').str.replace('Flametongue Maul', 'Maul').str.replace('Magic Maul\\!', 'Maul').str.replace('Envy O Maul Bound\\s', 'Maul').str.replace('Envy Of Maul Dual Blades\\s', 'Maul').str.replace('Jolting Maul\\🔮\\🌟', 'Maul').str.replace('Envy Of Maul Bound\\s', 'Maul').str.replace('Maul \\+1 GWM \\-5', 'Maul +1')\n",
        "#f2[f2.weapons.str.contains('aul', na=False)].weapons.unique()"
      ],
      "execution_count": null,
      "outputs": []
    },
    {
      "cell_type": "code",
      "metadata": {
        "id": "CLd-ySRy9GCE"
      },
      "source": [
        "##Normalized Mace\n",
        "f2['weapons'] = f2.weapons.str.replace('\\+1 Mace', 'Mace +1').str.replace('Mace \\+ 3 To Undead', 'Mace +1').str.replace('Mace \\+2', 'Mace +1').str.replace('Dwarven Mace \\+2', 'Mace +1').str.replace('Dwarven Mace \\+1', 'Mace +1')\n",
        "f2['weapons'] = f2.weapons.str.replace('Enchanted Skull Mace', 'Mace').str.replace('Mace of Terror', 'Mace').str.replace('Mace Of Radiance', 'Mace').str.replace('Torch-Mace', 'Mace').str.replace('Mace Of Judginess', 'Mace').str.replace('\\\"Salt Shaka\\\" Mace', 'Mace').str.replace('Fire Mace', 'Mace').str.replace('Mace Of Terror', 'Mace')\n",
        "#f2[f2.weapons.str.contains('ace', na=False)].weapons.unique()"
      ],
      "execution_count": null,
      "outputs": []
    },
    {
      "cell_type": "code",
      "metadata": {
        "id": "FU5Mtbi79VZx"
      },
      "source": [
        "##Normalized Spear\n",
        "f2['weapons'] = f2.weapons.str.replace('\\+1 Spear', 'Spear +1').str.replace('Spear \\+2', 'Spear +1')\n",
        "f2['weapons'] = f2.weapons.str.replace('\\sFront Desert Spear', 'Spear').str.replace('Back Desert Spear', 'Spear').str.replace('Pact Spear', 'Spear').str.replace('Spear Two-handed', 'Spear').str.replace('Whalin Spear', 'Spear').str.replace('Spear Two Handed', 'Spear').str.replace('Spear Head', 'Spear').str.replace('R\\. Spear Throw', 'Spear').str.replace('R\\. Spear Melee', 'Spear').str.replace('Spear2', 'Spear').str.replace('Sand Spear Of Returning', 'Spear').str.replace('Icespear', 'Spear').str.replace('Flame Spear', 'Spear').str.replace('Spear\\\"Can Opener\\\"', \"Spear\").str.replace('Obsidian Spear', 'Spear').str.replace('Longspear silver', 'Spear').str.replace('Bloodspear', 'Spear').str.replace('Whaling Spear', 'Spear').str.replace('Spear\\s', 'Spear')\n",
        "#f2[f2.weapons.str.contains('pear', na=False)].weapons.unique()"
      ],
      "execution_count": null,
      "outputs": []
    },
    {
      "cell_type": "code",
      "metadata": {
        "id": "RucvfKLY8p9r"
      },
      "source": [
        "##Flail, Glaive, Boomerang, Club, Halberd, Lance, Net, Pike\n",
        "#Morningstar, Sickle, Sling, Trident, War Pick, Whip, Yklwa\n",
        "#Gauntlet, Machete, Hatchet\n",
        "f2['weapons'] = f2.weapons.str.replace('Tethered Anchor Flail', 'Flail').str.replace('Rock Flail', 'Flail').str.replace('Sokkas Boomerang', 'Boomerang')\n",
        "f2['weapons'] = f2.weapons.str.replace('Lightning Glaive \\+3', 'Glaive +1').str.replace('Lighning Glaive \\+3 w\\/ Feat', 'Glaive +1').str.replace('\\+1 Glaive', 'Glaive +1').str.replace('Vibro Glaive', 'Glaive').str.replace('Glaive of eallqui', 'Glaive').str.replace('Glaive x 2', 'Glaive').str.replace('Flame Tongue Glaive', 'Glaive').str.replace('Glaive Butt End', 'Glaive')\n",
        "f2['weapons'] = f2.weapons.str.replace('Beardaruge \\+1 Club', 'Club +1').str.replace('Riot Club', 'Club').str.replace('Club Pistol Whip', 'Club').str.replace('Shillelagh club', 'Club').str.replace('Belaying Pin Club', 'Club').str.replace('Druidic Focus Club', 'Club').str.replace('Shillelagh Club', 'Club')\n",
        "f2['weapons'] = f2.weapons.str.replace('Halberd \\+1 GWM', 'Halberd +1').str.replace('Halberd Normal', 'Halberd').str.replace('Halberd Infused', 'Halberd').str.replace('Halberd reroll 1\\/2', 'Halberd').str.replace('Praetura Halberd', 'Halberd').str.replace('Halberd Butt', 'Halberd')\n",
        "f2['weapons'] = f2.weapons.str.replace('Pact Lance \\+1', 'Lance +1').str.replace('Bone Lance', 'Lance')\n",
        "f2['weapons'] = f2.weapons.str.replace('Tazer Net DC 15', 'Net').str.replace('Net Of Reduce', 'Net')\n",
        "f2['weapons'] = f2.weapons.str.replace('Staff Of Strike', 'Quarterstaff').str.replace('Spiked Baseball Bat', 'Club').str.replace('Spiked bat', 'Club').str.replace('Icy Morningstar', 'Morningstar').str.replace('Frostbrand Morningstar', 'Morningstar').str.replace('Offhand Sickle', 'Sickle')\n",
        "f2['weapons'] = f2.weapons.str.replace('Sproutling Jav', 'Javelin').str.replace('Darkling SSword \\+1', 'Sword +1').str.replace('Pact GSword Chilling Hex', 'Greatsword').str.replace('Porcupine Slingshot', 'Sling').str.replace('Guild Warriors Sling', 'Sling').str.replace('Magic Stone sling', 'Sling').str.replace('Fling Druid Staff\\s', 'Quarterstaff')\n",
        "f2['weapons'] = f2.weapons.str.replace('Trident Of Fish Command', 'Trident').str.replace('Heavy Trident', 'Trident').str.replace('\\+1 Eager Trident', 'Trident +1').str.replace('Great Trident', 'Trident').str.replace('Silvered Trident', 'Trident').str.replace('Trident V', 'Trident')\n",
        "f2['weapons'] = f2.weapons.str.replace('Whip Infused', 'Whip').str.replace('Whip Normal', 'Whip').str.replace('Masterwork Whip', 'Whip').str.replace('Dragons Tail Whip', 'Whip').str.replace('Silver-tipped Whip', 'Whip').str.replace('Whip Drink', 'Whip').str.replace('Chain Whip', 'Whip').str.replace('Silver Tipped Whip', 'Whip')\n",
        "f2['weapons'] = f2.weapons.str.replace('Thunder Gauntlets', 'Gauntlet').str.replace('Bitchslap Gauntlet', 'Gauntlet').str.replace('Great Gauntlets', 'Gauntlet').str.replace('Cursed Gauntlet', 'Gauntlet').str.replace('Sahuagin Claw Gauntlet\\s', 'Gauntlet')\n",
        "f2['weapons'] = f2.weapons.str.replace('Bone Machete', 'Machete')"
      ],
      "execution_count": null,
      "outputs": []
    },
    {
      "cell_type": "code",
      "metadata": {
        "id": "jCJSMq0v8_fF"
      },
      "source": [
        "##Pistol, Rifle, Gun, Musket, Pepperbox, Revolver, Shotgun, Blowgun\n",
        "f2['weapons'] = f2.weapons.str.replace('Starwheel Pistol', 'Pistol').str.replace('Blessed Pistol', 'Pistol').str.replace('Eldritch Pistol', 'Pistol').str.replace('Target Pistol', 'Pistol').str.replace('Pistol Of Radiance', 'Pistol').str.replace('S\\.S\\. Pistol Of Radiance', 'Pistol').str.replace('Flintlock Pistol', 'Pistol').str.replace('S\\.S\\. Pistol', 'Pistol')\n",
        "f2['weapons'] = f2.weapons.str.replace('Flintlock Rifle', 'Rifle').str.replace('Fircebain Sniper Rifle Revolver', 'Sniper Rifle').str.replace('Pulse Rifle 10ftCube15', 'Rifle').str.replace('Laser Rifle', 'Laser Pistol').str.replace('Hunting Rifle', 'Rifle')\n",
        "f2['weapons'] = f2.weapons.str.replace('Pepperbox6\\/2', 'Pepperbox').str.replace('\\+2 Pepperbox', 'Pepperbox').str.replace('S\\.S\\. Pepperbox', 'Pepperbox')\n",
        "f2['weapons'] = f2.weapons.str.replace('Service Revolver', 'Revolver').str.replace('P\\.Revolver', 'Revolver').str.replace('Shotgun Ranged', 'Shotgun').str.replace('Shotgun Of Wounding', 'Shotgun').str.replace('M134 Magic Minigun', 'Pistol').str.replace('Scattergun', 'Shotgun').str.replace('Pow Pow Gun', 'Pistol').str.replace('Powder Gun', 'Pistol').str.replace('Six Gun', 'Revolver')"
      ],
      "execution_count": null,
      "outputs": []
    },
    {
      "cell_type": "code",
      "metadata": {
        "id": "nAC5D7ChLMhr"
      },
      "source": [
        "##Unarmed Strike\n",
        "f2['weapons'] = f2.weapons.str.replace('Unarmed strike', 'Unarmed Strike').str.replace('Unarmed Strikemagical', 'Unarmed Strike').str.replace('Unarmed Attack Bite', 'Unarmed Strike').str.replace('Unarmed Claw', 'Unarmed Strike').str.replace('R Spiked Unarmed Strike', 'Unarmed Strike').str.replace('Batiri Arm Unarmed', 'Unarmed Strike').str.replace('Unarmed Strike Plus 1', 'Unarmed Strike +1').str.replace('Unarmed Strike Claws', 'Unarmed Strike').str.replace('Monk Unarmed Strike', 'Unarmed Strike')\n",
        "#f2[f2.weapons.str.contains('narmed', na=False)].weapons.unique()"
      ],
      "execution_count": null,
      "outputs": []
    },
    {
      "cell_type": "code",
      "metadata": {
        "id": "XJEZ561NlJr8"
      },
      "source": [
        "##Other Weapons Cleaned\n",
        "f2['weapons'] = f2.weapons.str.replace('Sun Blade', 'Sword').str.replace('Goblin Lash', 'Whip').str.replace('Bow of the Guild', 'Longbow').str.replace('Psy-blade', 'Sword').str.replace('Fin\\.Fist \\+Snek Dam', 'Unarmed Strike').str.replace('Super Bow', 'Longbow').str.replace('Thalmor Snapbow', 'Longbow').str.replace('Shillelagh Walking Stick', 'Quarterstaff').str.replace('Fist', 'Unarmed Strike').str.replace('Two Fists', 'Unarmed Strike').str.replace('Poleaxe', 'Halberd').str.replace('Berserker Axe', 'Battleaxe').str.replace('War pick', 'War Pick').str.replace('Staff Of Fire', 'Quarterstaff').str.replace('Claws', 'Unarmed Strike').str.replace('Bite', 'Unarmed Strike').str.replace('Short Sword', 'Shortsword').str.replace('Granddads Saber', 'Sword').str.replace('Flying Bearclaw Axe', 'Battleaxe').str.replace('Cleaver', 'Dagger').str.replace('Punch\\s', 'Unarmed Strike').str.replace('Boatbook', 'Dagger').str.replace('M\\. Lord Kopech S\\.Sword', 'Shortsword').str.replace('Moonlit Brass Knuckles', 'Unarmed Strike').str.replace('Light Crossbow\\+2', 'Light Crossbow +1').str.replace('Dragon Pole', 'Quarterstaff').str.replace('Grosser Morgenstern', 'Morningstar').str.replace('Grosses Schwert', 'Greatsword').str.replace('Handaxt', 'Handaxe').str.replace('Pact Blade', 'Sword').str.replace('Sunblade', 'Sword').str.replace('Bastard Sword', 'Sword')\n",
        "f2['weapons'] = f2.weapons.str.replace('Repeating Xbow hand', 'Hand Crossbow').str.replace('Sword Of The Master', 'Sword').str.replace('Hand Scythe', 'Scythe').str.replace('Staff Of Strik', 'Quarterstaff').str.replace('Blink Dog Blade', 'Sword').str.replace('Great Axe', 'Greataxe').str.replace('Sword Of Wounding \\+2', 'Sword +1').str.replace('LongSword', 'Longsword').str.replace('Infernal Axe', 'Greataxe').str.replace('Repeater Xbow', 'Crossbow').str.replace('Épée courte', 'Rapier').str.replace('Arc long', 'Longbow').str.replace('Saber', 'Sword').str.replace('Claw Attack', 'Unarmed Strike').str.replace('Belaying Pin', 'Dagger').str.replace('Vibro Sword \\+2', 'Sword +1').str.replace('m93R Magnum\\s', 'Pistol').str.replace('Police Baton', 'Club').str.replace('\\+3 Long Bow', 'Longbow +1').str.replace('Sword of Gallops', 'Sword').str.replace('Kick\\/Bite', 'Unarmed Strike').str.replace('Night Stick', 'Club').str.replace('Nightstick', 'Club').str.replace('Hooves', 'Unarmed Strike').str.replace('Switchblade', 'Dagger').str.replace('Skyblinder Staf \\+1', 'Quarterstaff +1').str.replace('Pretty Good Axe', 'Greataxe').str.replace('Shillelagh 1/4Staff', 'Quarterstaff').str.replace('Staff 2 Hand', 'Quarterstaff').str.replace('Pact Long Bow', 'Longbow').str.replace('Mag\\.Bratpfanne \\+5', 'Revolver').str.replace('Compound Bow', 'Shortbow').str.replace('CmpndBow', 'Shortbow')\n",
        "f2['weapons'] = f2.weapons.str.replace('\\+1Hand Crossbow RS', 'Hand Crossbow +1').str.replace('Chaos Bow', 'Longbow').str.replace('Lanza Larga', 'Spear').str.replace('Blefus Carbine', 'Rifle').str.replace('Krijg warbow', 'Longbow').str.replace('Krijg Warbow Close Range', 'Longbow').str.replace('\\SStormwing \\+1 Long sword', 'Longsword +1').str.replace('Natural Weapons', 'Unarmed Strike').str.replace('Mandible', 'Unarmed Strike').str.replace('ShortSword', 'Shortsword').str.replace('Flammenzungen Dolch', 'Dagger').str.replace('Dryder Sword', 'Sword').str.replace('Dryder Bow', 'Shortbow').str.replace('Sword Of The War Mage', 'Sword').str.replace('Auto Loading Sci', 'Rifle').str.replace('Iron Ring Sword', 'Sword').str.replace('Silver SSword', 'Shortsword').str.replace('Morning Star Of Radient Sacrifice', 'Morningstar').str.replace('Edge of the Moon', 'Longsword').str.replace('Edge of the Moon 2H', 'Longsword').str.replace('Wooden Sword 2h', 'Sword').str.replace('Iron Fist', 'Unarmed Strike').str.replace('Akuma Ha \\- Katana \\+1', 'Katana +1').str.replace('Greatersword', 'Greatsword').str.replace('Dwarven Thrower', 'Light Hammer').str.replace('\\+3 Dwarven Thrower', 'Light Hammer').str.replace('Ballesta Ligera', 'Light Crossbow').str.replace('Cimitarra', 'Scimitar').str.replace('Espada Corta', 'Shortsword').str.replace('Honda', 'Sling').str.replace('Vara', 'Club')\n",
        "f2['weapons'] = f2.weapons.str.replace('Gran Hacha\\+1', 'Greataxe +1').str.replace('Hacha De Mano', 'Handaxe').str.replace('Javalinas', 'Javelin').str.replace('HeatwaveKatana', 'Katana').str.replace('Hunting Knife', 'Dagger').str.replace('Wurfpfeil', 'Dart').str.replace('Waffenloser Schlag', 'Unarmed Strike').str.replace('Kampfstab', 'Quarterstaff').str.replace('Kampfstab Zweihändig', 'Quarterstaff').str.replace('Streitkolben', 'Mace').str.replace('Oath Bow', 'Longbow').str.replace('Spider Staff', 'Quarterstaff').str.replace('Lightning Hand Crsbow \\+2', 'Hand Crossbow +1').str.replace('Force Hvy Crsbow \\+3', 'Heavy Crossbow +1').str.replace('Hand Crsbow Sharpshooter', 'Hand Crossbow').str.replace('Hvy Crsbow Sharpshooter', 'Heavy Crossbow').str.replace('Bow', 'Longbow').str.replace('Mauser', 'Rifle').str.replace('Broomhandle', 'Quarterstaff').str.replace('Twin-Shotty', 'Pepperbox').str.replace('Pact GSword Burning Hex', 'Greatsword').str.replace('Pact GSword', 'Greatsword').str.replace('Pact GSword Master', 'Greatsword').str.replace('Throwing Knife', 'Dagger').str.replace('Katana Pact Weapon', 'Katana').str.replace('Adaga da Dor Eterna', 'Dagger').str.replace('Curved Blade', 'Sword').str.replace('Devil Sword', 'Sword').str.replace('Sword of Tymora', 'Sword').str.replace('Shorbow \\+1', 'Shortbow +1').str.replace('Bottle Blade', 'Sword').str.replace('Combat Knife', 'Dagger')\n",
        "f2['weapons'] = f2.weapons.str.replace('Staff of the Woodlands', 'Quarterstaff').str.replace('Grxe Rage Recklss GWM', 'Greataxe').str.replace('Grxe ALL Crit', 'Greataxe').str.replace('Oathbow', 'Longbow').str.replace('Stormbow', 'Longbow').str.replace('S\\.SwordM', 'Shortsword').str.replace('S\\.SwordO', 'Shortsword').str.replace('Dragon Sinew Bow', 'Longbow').str.replace('Hoof Attack', 'Unarmed Strike').str.replace('Spider Punch', 'Unarmed Strike').str.replace('Spider Kick', 'Unarmed Strike').str.replace('Crystal Sword', 'Sword').str.replace('Gabriel LongBow', 'Longbow').str.replace('Gabriel Shortsward', 'Shortsword').str.replace('Mourning Blade', 'Sword').str.replace('Shadow Sword', 'Sword').str.replace('Sword Of Wounding\\s', 'Sword').str.replace('Cutlass', 'Sword').str.replace('The Wrath Of Ezili 1h', 'Longsword').str.replace('The Wrath Of Ezili 2h', 'Longsword').str.replace('The Wrath Of Ezili Ranged', 'Longsword').str.replace('Great Pick', 'War Pick').str.replace('Harpoon', 'Javelin').str.replace('Death Stalker Bow', 'Longbow').str.replace('Shadow Hand X\\-bow', 'Hand Crossbow').str.replace('Flintlock Smoothbore Deal Breaker', 'Pistol').str.replace('Wolf Bite', 'Unarmed Strike').str.replace('Chain Blades', 'Dagger').str.replace('nunchuck\\s', 'Nunchuck').str.replace('Mjolnir', 'Light Hammer').str.replace('2 Kitanas', 'Katana').str.replace('Staff Of Woodlands', 'Quarterstaff').str.replace('Drow Sword', 'Sword')\n",
        "f2['weapons'] = f2.weapons.str.replace('Sun Blade versatile', 'Sword').str.replace('Flame Axe', 'Greataxe').str.replace('Silversword', 'Sword').str.replace('Death Scythe', 'Scythe').str.replace('Nunchuck\\s', 'Nunchuck').str.replace('Bilanciere', 'Barbell').str.replace('Manubrio', 'Handlebar').str.replace('Red Dragon Sword', 'Sword').str.replace('Gw Warpick', 'War Pick').str.replace('\\+2 Staff Of Power', 'Quarterstaff').str.replace('Sword Of Vengeance\\s', 'Sword').str.replace('Flaming Sword', 'Sword').str.replace('Silverstone Axe', 'Greataxe').str.replace('Bordão\\s', 'Quarterstaff').str.replace('Long Sword Of Wounding', 'Longsword').str.replace('Talons', 'Unarmed Strike').str.replace('Bordão/veneno', 'Quarterstaff').str.replace('Dart\\/elétrico\\s', 'Dart').str.replace('Small Knife', 'Dagger').str.replace('Long Sword', 'Longsword').str.replace('Crescent Scythe 2hand', 'Scythe').str.replace('Crescent Scythe', 'Scythe').str.replace('Brass Knuckles', 'Unarmed Strike').str.replace('Vorpal Sword', 'Sword').str.replace('Ruby Sword\\s', 'Sword').str.replace('Wrist daggers 2x', 'Dagger').str.replace('Warpick', 'War Pick').str.replace('Sword BurstDex', 'Sword').str.replace('Boarding Axes', 'Handaxe').str.replace('Shillelagh Staff', 'Quarterstaff').str.replace('Cajado Classe Mundial\\+\\+', 'Quarterstaff').str.replace('Lifeleech Sabre', 'Sword').str.replace('Sunsword Staff', 'Quarterstaff')\n",
        "f2['weapons'] = f2.weapons.str.replace('Ghostbane Scythe', 'Scythe').str.replace('Vicious Blade of Wounding', 'Sword').str.replace('Staff Woodland', 'Quarterstaff').str.replace('Wood Sword Pact', 'Sword').str.replace('Wooden Shield', 'Shield').str.replace('Staff Shillelagh', 'Quarterstaff').str.replace('OATH BOW', 'Longbow').str.replace('Deathscythe', 'Scythe').str.replace('Fists', 'Unarmed Strike').str.replace('Cooking Knife\\s', 'Dagger').str.replace('Giant Cooking Spoon', 'Club').str.replace('Wizard Staff', 'Quarterstaff').str.replace('Sunsword Lngswrd', 'Longsword').str.replace('Skyfordged Steel LS', 'Longsword').str.replace('Skyforegd Steel GS', 'Greatsword').str.replace('Staff Of Power', 'Quarterstaff').str.replace('Épée longue \\+1\\/\\+4', 'Longsword').str.replace('Griffes de tigre', 'Tiger Claws').str.replace('Druid Sword', 'Sword').str.replace('Katana Bea', 'Katana').str.replace('Katana Arthur', 'Katana').str.replace('heavy crossbow', 'Heavy Crossbow').str.replace('Demon Shortblade', 'Shortsword').str.replace('D\\. Shortblade v\\. Devils', 'Shortsword').str.replace('GaeBolga', 'Spear').str.replace('Dao Sword', 'Sword').str.replace('claw attack', 'Unarmed Strike').str.replace('Mallet of silvanus', 'Light Hammer').str.replace('Military Pick \\+1', 'War Pick +1').str.replace('LONGBOW', 'Longbow').str.replace('Sword Of Vengeance', 'Sword').str.replace('Tinee Stab Short Sword', 'Shortsword')\n",
        "f2['weapons'] = f2.weapons.str.replace('Mjolnirssen', 'Light Hammer').str.replace('Mjolnirssen Arremesso', 'Light Hammer').str.replace('Underwater Bow', 'Longbow').str.replace('Katana\\s', 'Katana').str.replace('Sword Staff', 'Quarterstaff').str.replace('Pipe', 'Club').str.replace('Machado Grande', 'Greataxe').str.replace('Staff Of Thunder And Lightning', 'Quarterstaff').str.replace('Noxious Staff', 'Quarterstaff')"
      ],
      "execution_count": null,
      "outputs": []
    },
    {
      "cell_type": "code",
      "metadata": {
        "colab": {
          "base_uri": "https://localhost:8080/"
        },
        "id": "4MMMWBKPSC99",
        "outputId": "29c7e7f6-53c3-41a2-f8dd-62a1300923ef"
      },
      "source": [
        "f2.weapons.value_counts()"
      ],
      "execution_count": null,
      "outputs": [
        {
          "output_type": "execute_result",
          "data": {
            "text/plain": [
              "Dagger            4446\n",
              "Light Crossbow    2099\n",
              "Quarterstaff      1937\n",
              "Rapier            1900\n",
              "Shortsword        1820\n",
              "                  ... \n",
              "Club +1              1\n",
              "Hazirawn             1\n",
              "Knuckle Blades       1\n",
              "Boomstick            1\n",
              "Radiant Attack       1\n",
              "Name: weapons, Length: 519, dtype: int64"
            ]
          },
          "metadata": {
            "tags": []
          },
          "execution_count": 85
        }
      ]
    },
    {
      "cell_type": "markdown",
      "metadata": {
        "id": "haDFXODganZC"
      },
      "source": [
        "<h2> Alignment </h2>"
      ]
    },
    {
      "cell_type": "markdown",
      "metadata": {
        "id": "WAFCJwrsf6W6"
      },
      "source": [
        "Alignments help to guide a player character through their words and actions during game play; it focuses on the ethics and the morals a character may possess. Certain actions may effect an alignment and change it over time in terms of narrative progression. The traditional alignments are as follows:\n",
        "> Lawful Good | Neutral Good | Chaotic Good\n",
        "<br> Lawful Neutral | True Neutral | Chaotic Neutral\n",
        "<br> Lawful Evil | Neutral Evil | Chaotic Evil\n",
        "<br> Unaligned\n",
        "\n",
        "It is optional for a player character to choose and select an alignment. It is not necessary in order to play the game or take part in an adventure, but it can help the DM to drive the narrative and story in certain ways that will challenge a player or force them to confront some of the aspects of the player character's creation ideals, bonds, and personality traits. Some player characters chose to interpret the traditional alignments and give a varied response, such as 'Neutral if you are Lucky'."
      ]
    },
    {
      "cell_type": "code",
      "metadata": {
        "id": "BCqJsxFCfkfq"
      },
      "source": [
        "#f2.alignment.unique()"
      ],
      "execution_count": null,
      "outputs": []
    },
    {
      "cell_type": "code",
      "metadata": {
        "id": "ZwL5-_yTw4t0"
      },
      "source": [
        "##Replace Alignment alts\n",
        "f2['feats'] = f2.feats.str.replace('Quick-Fingered', 'Quick Fingered')\n",
        "#f2[f2.feats.str.contains('Quick Fingered', na=False)]"
      ],
      "execution_count": null,
      "outputs": []
    },
    {
      "cell_type": "markdown",
      "metadata": {
        "id": "HgKA_6wqarAo"
      },
      "source": [
        "<h2> Further Consideration </h2>"
      ]
    },
    {
      "cell_type": "markdown",
      "metadata": {
        "id": "mBrLM5lhXJte"
      },
      "source": [
        "There is much more that can be done to clean and transform the data. With the aid of wikidata, wikipedia, Fandom, and DNDbeyond, the dataset could have addeded columns that include true/false values for official or homebrew status on 'race', 'class', 'subclass', 'background', 'feats', 'weapons', and 'spells'--despite the fact 'spells' was dropped at the beginning of the dataset in order to make it more manageable to explore, analyze, and visualize; the same sources could tabulate which sourcebook, adventure module, or other source the data points came from.\n",
        "\n",
        "Moving forward, if 'spells' were to be addressed, a new column would be necessary in order to track which level the spell is at. Some player characters included the level of their spells in 'weapons'--1st+Witch Bolt. Once compiled, spells could be tracked across class and race, class and subclass, class and background, etc., as well as against the player characters' casting stat and the corresponding stat field."
      ]
    },
    {
      "cell_type": "markdown",
      "metadata": {
        "id": "uiZ6U8oxbnVy"
      },
      "source": [
        "<h2> Data Exploration </h2>"
      ]
    },
    {
      "cell_type": "markdown",
      "metadata": {
        "id": "mrL0bS8fbrIH"
      },
      "source": [
        "<h3> Race, Class, Background </h3>"
      ]
    },
    {
      "cell_type": "markdown",
      "metadata": {
        "id": "Lkx75OecbzFr"
      },
      "source": [
        "aioejaekm"
      ]
    },
    {
      "cell_type": "code",
      "metadata": {
        "id": "Gke_ZETecNlf"
      },
      "source": [
        "#grid = sns.FacetGrid(f2, col=\"race\", row=\"classes\", palette=\"tab20c\")\n",
        "#grid.map(plt.plot, \"level\", \"race\")"
      ],
      "execution_count": null,
      "outputs": []
    },
    {
      "cell_type": "code",
      "metadata": {
        "id": "b3SeMd3bhgmv"
      },
      "source": [
        "#f2['race_count'] = f2.groupby(['race'])['race'].transform('count')\n",
        "#f2['class_count'] = f2.groupby(['classes'])['classes'].transform('count')\n",
        "#f2['sub_count'] = f2.groupby(['subclass'])['subclass'].transform('count')\n",
        "#f2['back_count'] = f2.groupby(['background'])['background'].transform('count')\n",
        "#f2['feat_count'] = f2.groupby(['feats'])['feats'].transform('count')\n",
        "#f2['wep_count'] = f2.groupby(['weapons'])['weapons'].transform('count')\n",
        "#f2['cast_count'] = f2.groupby(['castingStat'])['castingStat'].transform('count')\n",
        "#f2['align_count'] = f2.groupby(['alignment'])['alignment'].transform('count')"
      ],
      "execution_count": null,
      "outputs": []
    },
    {
      "cell_type": "code",
      "metadata": {
        "colab": {
          "base_uri": "https://localhost:8080/",
          "height": 602
        },
        "id": "g_-20NxZXvJD",
        "outputId": "06322434-f040-42ed-b0fc-4fb7718cac23"
      },
      "source": [
        "f2"
      ],
      "execution_count": null,
      "outputs": [
        {
          "output_type": "execute_result",
          "data": {
            "text/html": [
              "<div>\n",
              "<style scoped>\n",
              "    .dataframe tbody tr th:only-of-type {\n",
              "        vertical-align: middle;\n",
              "    }\n",
              "\n",
              "    .dataframe tbody tr th {\n",
              "        vertical-align: top;\n",
              "    }\n",
              "\n",
              "    .dataframe thead th {\n",
              "        text-align: right;\n",
              "    }\n",
              "</style>\n",
              "<table border=\"1\" class=\"dataframe\">\n",
              "  <thead>\n",
              "    <tr style=\"text-align: right;\">\n",
              "      <th></th>\n",
              "      <th>race</th>\n",
              "      <th>classes</th>\n",
              "      <th>subclass</th>\n",
              "      <th>background</th>\n",
              "      <th>level</th>\n",
              "      <th>feats</th>\n",
              "      <th>HP</th>\n",
              "      <th>AC</th>\n",
              "      <th>Str</th>\n",
              "      <th>Dex</th>\n",
              "      <th>Con</th>\n",
              "      <th>Int</th>\n",
              "      <th>Wis</th>\n",
              "      <th>Cha</th>\n",
              "      <th>weapons</th>\n",
              "      <th>castingStat</th>\n",
              "      <th>alignment</th>\n",
              "    </tr>\n",
              "    <tr>\n",
              "      <th>name</th>\n",
              "      <th></th>\n",
              "      <th></th>\n",
              "      <th></th>\n",
              "      <th></th>\n",
              "      <th></th>\n",
              "      <th></th>\n",
              "      <th></th>\n",
              "      <th></th>\n",
              "      <th></th>\n",
              "      <th></th>\n",
              "      <th></th>\n",
              "      <th></th>\n",
              "      <th></th>\n",
              "      <th></th>\n",
              "      <th></th>\n",
              "      <th></th>\n",
              "      <th></th>\n",
              "    </tr>\n",
              "  </thead>\n",
              "  <tbody>\n",
              "    <tr>\n",
              "      <th>3aa08164</th>\n",
              "      <td>Forest Gnome</td>\n",
              "      <td>Wizard</td>\n",
              "      <td>School of Evocation</td>\n",
              "      <td>Sage</td>\n",
              "      <td>4</td>\n",
              "      <td>Fade Away</td>\n",
              "      <td>32</td>\n",
              "      <td>19</td>\n",
              "      <td>10</td>\n",
              "      <td>17</td>\n",
              "      <td>16</td>\n",
              "      <td>17</td>\n",
              "      <td>12</td>\n",
              "      <td>10</td>\n",
              "      <td>Quarterstaff</td>\n",
              "      <td>Int</td>\n",
              "      <td>NaN</td>\n",
              "    </tr>\n",
              "    <tr>\n",
              "      <th>4e0ad948</th>\n",
              "      <td>Wood Elf</td>\n",
              "      <td>Cleric</td>\n",
              "      <td>Nature Domain</td>\n",
              "      <td>Noble</td>\n",
              "      <td>8</td>\n",
              "      <td>Crossbow Expert</td>\n",
              "      <td>64</td>\n",
              "      <td>16</td>\n",
              "      <td>8</td>\n",
              "      <td>16</td>\n",
              "      <td>12</td>\n",
              "      <td>13</td>\n",
              "      <td>18</td>\n",
              "      <td>10</td>\n",
              "      <td>Mace</td>\n",
              "      <td>Wis</td>\n",
              "      <td>NaN</td>\n",
              "    </tr>\n",
              "    <tr>\n",
              "      <th>4e0ad948</th>\n",
              "      <td>Wood Elf</td>\n",
              "      <td>Cleric</td>\n",
              "      <td>Nature Domain</td>\n",
              "      <td>Noble</td>\n",
              "      <td>8</td>\n",
              "      <td>Crossbow Expert</td>\n",
              "      <td>64</td>\n",
              "      <td>16</td>\n",
              "      <td>8</td>\n",
              "      <td>16</td>\n",
              "      <td>12</td>\n",
              "      <td>13</td>\n",
              "      <td>18</td>\n",
              "      <td>10</td>\n",
              "      <td>Light Crossbow</td>\n",
              "      <td>Wis</td>\n",
              "      <td>NaN</td>\n",
              "    </tr>\n",
              "    <tr>\n",
              "      <th>4e0ad948</th>\n",
              "      <td>Wood Elf</td>\n",
              "      <td>Druid</td>\n",
              "      <td>Circle of the Moon</td>\n",
              "      <td>Noble</td>\n",
              "      <td>8</td>\n",
              "      <td>Crossbow Expert</td>\n",
              "      <td>64</td>\n",
              "      <td>16</td>\n",
              "      <td>8</td>\n",
              "      <td>16</td>\n",
              "      <td>12</td>\n",
              "      <td>13</td>\n",
              "      <td>18</td>\n",
              "      <td>10</td>\n",
              "      <td>Mace</td>\n",
              "      <td>Wis</td>\n",
              "      <td>NaN</td>\n",
              "    </tr>\n",
              "    <tr>\n",
              "      <th>4e0ad948</th>\n",
              "      <td>Wood Elf</td>\n",
              "      <td>Druid</td>\n",
              "      <td>Circle of the Moon</td>\n",
              "      <td>Noble</td>\n",
              "      <td>8</td>\n",
              "      <td>Crossbow Expert</td>\n",
              "      <td>64</td>\n",
              "      <td>16</td>\n",
              "      <td>8</td>\n",
              "      <td>16</td>\n",
              "      <td>12</td>\n",
              "      <td>13</td>\n",
              "      <td>18</td>\n",
              "      <td>10</td>\n",
              "      <td>Light Crossbow</td>\n",
              "      <td>Wis</td>\n",
              "      <td>NaN</td>\n",
              "    </tr>\n",
              "    <tr>\n",
              "      <th>...</th>\n",
              "      <td>...</td>\n",
              "      <td>...</td>\n",
              "      <td>...</td>\n",
              "      <td>...</td>\n",
              "      <td>...</td>\n",
              "      <td>...</td>\n",
              "      <td>...</td>\n",
              "      <td>...</td>\n",
              "      <td>...</td>\n",
              "      <td>...</td>\n",
              "      <td>...</td>\n",
              "      <td>...</td>\n",
              "      <td>...</td>\n",
              "      <td>...</td>\n",
              "      <td>...</td>\n",
              "      <td>...</td>\n",
              "      <td>...</td>\n",
              "    </tr>\n",
              "    <tr>\n",
              "      <th>acc2a5e1</th>\n",
              "      <td>Meadowguard</td>\n",
              "      <td>Bard</td>\n",
              "      <td>NaN</td>\n",
              "      <td>Acolyte</td>\n",
              "      <td>1</td>\n",
              "      <td>NaN</td>\n",
              "      <td>10</td>\n",
              "      <td>14</td>\n",
              "      <td>8</td>\n",
              "      <td>16</td>\n",
              "      <td>13</td>\n",
              "      <td>11</td>\n",
              "      <td>13</td>\n",
              "      <td>16</td>\n",
              "      <td>Dagger</td>\n",
              "      <td>Cha</td>\n",
              "      <td>NaN</td>\n",
              "    </tr>\n",
              "    <tr>\n",
              "      <th>acc2a5e1</th>\n",
              "      <td>Meadowguard</td>\n",
              "      <td>Bard</td>\n",
              "      <td>NaN</td>\n",
              "      <td>Acolyte</td>\n",
              "      <td>1</td>\n",
              "      <td>NaN</td>\n",
              "      <td>10</td>\n",
              "      <td>14</td>\n",
              "      <td>8</td>\n",
              "      <td>16</td>\n",
              "      <td>13</td>\n",
              "      <td>11</td>\n",
              "      <td>13</td>\n",
              "      <td>16</td>\n",
              "      <td>Dagger</td>\n",
              "      <td>Cha</td>\n",
              "      <td>NaN</td>\n",
              "    </tr>\n",
              "    <tr>\n",
              "      <th>38188e7b</th>\n",
              "      <td>Deep Gnome</td>\n",
              "      <td>Rogue</td>\n",
              "      <td>NaN</td>\n",
              "      <td>Haunted One</td>\n",
              "      <td>2</td>\n",
              "      <td>NaN</td>\n",
              "      <td>17</td>\n",
              "      <td>13</td>\n",
              "      <td>9</td>\n",
              "      <td>16</td>\n",
              "      <td>15</td>\n",
              "      <td>14</td>\n",
              "      <td>10</td>\n",
              "      <td>10</td>\n",
              "      <td>Rapier</td>\n",
              "      <td>Int</td>\n",
              "      <td>NaN</td>\n",
              "    </tr>\n",
              "    <tr>\n",
              "      <th>38188e7b</th>\n",
              "      <td>Deep Gnome</td>\n",
              "      <td>Rogue</td>\n",
              "      <td>NaN</td>\n",
              "      <td>Haunted One</td>\n",
              "      <td>2</td>\n",
              "      <td>NaN</td>\n",
              "      <td>17</td>\n",
              "      <td>13</td>\n",
              "      <td>9</td>\n",
              "      <td>16</td>\n",
              "      <td>15</td>\n",
              "      <td>14</td>\n",
              "      <td>10</td>\n",
              "      <td>10</td>\n",
              "      <td>Shortbow</td>\n",
              "      <td>Int</td>\n",
              "      <td>NaN</td>\n",
              "    </tr>\n",
              "    <tr>\n",
              "      <th>38188e7b</th>\n",
              "      <td>Deep Gnome</td>\n",
              "      <td>Rogue</td>\n",
              "      <td>NaN</td>\n",
              "      <td>Haunted One</td>\n",
              "      <td>2</td>\n",
              "      <td>NaN</td>\n",
              "      <td>17</td>\n",
              "      <td>13</td>\n",
              "      <td>9</td>\n",
              "      <td>16</td>\n",
              "      <td>15</td>\n",
              "      <td>14</td>\n",
              "      <td>10</td>\n",
              "      <td>10</td>\n",
              "      <td>Dagger</td>\n",
              "      <td>Int</td>\n",
              "      <td>NaN</td>\n",
              "    </tr>\n",
              "  </tbody>\n",
              "</table>\n",
              "<p>30334 rows × 17 columns</p>\n",
              "</div>"
            ],
            "text/plain": [
              "                  race classes  ... castingStat alignment\n",
              "name                            ...                      \n",
              "3aa08164  Forest Gnome  Wizard  ...         Int       NaN\n",
              "4e0ad948      Wood Elf  Cleric  ...         Wis       NaN\n",
              "4e0ad948      Wood Elf  Cleric  ...         Wis       NaN\n",
              "4e0ad948      Wood Elf   Druid  ...         Wis       NaN\n",
              "4e0ad948      Wood Elf   Druid  ...         Wis       NaN\n",
              "...                ...     ...  ...         ...       ...\n",
              "acc2a5e1   Meadowguard    Bard  ...         Cha       NaN\n",
              "acc2a5e1   Meadowguard    Bard  ...         Cha       NaN\n",
              "38188e7b    Deep Gnome   Rogue  ...         Int       NaN\n",
              "38188e7b    Deep Gnome   Rogue  ...         Int       NaN\n",
              "38188e7b    Deep Gnome   Rogue  ...         Int       NaN\n",
              "\n",
              "[30334 rows x 17 columns]"
            ]
          },
          "metadata": {
            "tags": []
          },
          "execution_count": 90
        }
      ]
    },
    {
      "cell_type": "code",
      "metadata": {
        "id": "jZYS20OJdbSP"
      },
      "source": [
        "f2['Count_Column'] = f2['race'].map(f2['race'].value_counts())"
      ],
      "execution_count": null,
      "outputs": []
    },
    {
      "cell_type": "markdown",
      "metadata": {
        "id": "hpk7-cfmqIdf"
      },
      "source": [
        "Out of the data, there are 5949 individual player characters. Some of these players may have created multiple characters within the app.\n",
        "```\n",
        "f2.index.nunique(dropna = True)\n",
        "```\n",
        "Of the 5949, player characters, there are 199 different races. The races input into the app come from a variety of offical DND sourcebooks and adventure modules, Unearth Arcana playtest materials, and homebrew creation.\n",
        "```\n",
        "f2.race.nunique(dropna = True)\n",
        "```\n",
        "There are 19 different class types that players had the option to choose from when selecting their player characters. Of the 19, 2 were Unearth Arcana, 4 were homebrew, and 13 were official DND races.\n",
        "```\n",
        "f2.classes.nunique(dropna = True)\n",
        "f2.classes.unique()\n",
        "```\n",
        "Players selected 148 different subclass variations across the 19 different class types. Some of these were homebrew, while some were Unearthed Arcana, but the majority were from official DND sourcebooks and adventure modules.\n",
        "```\n",
        "f2.subclass.nunique(dropna = True)\n",
        "```\n",
        "There were just as many variations in background types that players selected for their characters: 144. The dataset did not come with any descriptions for the various fields, so some instances within 'background' may have reflected two separate background choices labeled under the same name of 'Pirate', for instance. The amount of background choices players made could be exponentially higher.\n",
        "```\n",
        "f2.background.nunique(dropna = True)\n",
        "```\n",
        "Player characters ranged from levels 0-261 across 35 different levels. The greatest number of player characters tended to be around levels that have major milestone progressions based on character class types. Level 1 saw 4856, level 3 saw 3508, level 5 saw 3403, level 4 2588, level 8 2009, and level 6 at 1973 to look at the top 6 levels ranked. Level 1 is where most players begin and thus would see the highest number of player characters. Level 3 is the point at which player characters can pick their subclass type and gain new abilities based on their choices. Level 5 is another point at which players gain new abilities that can affect game play; for example, within the Barbarian class, a character's proficiency bonus goes from +3 to +4 which means when rolling a 20 sided dice, the player will be able to add +4 to their roll in a skill that they are proficient at. Level 4 is where many classes get their first ability score improvement or the option to take a feat; increasing ability scores can allow for players to increase damage dealt with strength based weapons or can increase dexterity in order to evade danger; feats allow the player character to improve a specific area, such as 'Alert' which allows the player character to gain these benefits: +5 Initiative, can't be surprised, no advantage for hidden attackers. Level 8 is the next ability score improvemnet or feat option. Level 6 offers a variety of improvements across the differnent classes, so some may benefit more than others. It is important to note that at each level players do receive some sort of ability or feature improvement; however, there are some classes that may not gain any features or abilities but may have the ability to choose more spells and at higher levels.\n",
        "```\n",
        "f2.level.nunique(dropna = True)\n",
        "f2.level.unique()\n",
        "f2.level.value_counts()\n",
        "```\n",
        "The feats that were selected by many player characters totaled at 70. DND official sourcebooks and adventure modules provides a large variety to choose from, and only a few of the feats were homebrew or Unearth Arcana content. Of the 70, Sharpshooter, War Caster, Lucky, Dual Wielder, and Alert were the top 5 selected. Sharpshooter is important for characters that make use of long range weapons, such as Gunslingers and Rangers. War Caster allows those with magic to have improved spell casting abilities during combat. Lucky allows players to reroll a dice roll a specific number of times a day, which could potentially change the outcome of an encounter or attack. Dual Wielder gives player characters the advantage of being able to use two weapons during an attack round as opposed to one that many races only have access to. Alert, as described above, puts others at a disadvantage for surprise attacks.\n",
        "```\n",
        "f2.feats.nunique(dropna = True)\n",
        "f2.feats.value_counts()\n",
        "```\n",
        "HP--Hit Points--is the amount of health a player character has access to based on the amount they roll with each level increase. During combat, players deal and receive damage in turn. The app only recorded the HP attached to each unique player id at the time of compiling the data; the dataset does not have the max HP for each player character recorded. A player character may have a recorded '12 HP' in the app, but in actuality the player character could have a max HP of '42'. The lowest amount of HP a player character had was -24, which implies the character was dead or unconcious; 6894 was the max, which could point at a DM using the app as a way to record the profiles of the boss or BBEG--Big Bad Evil Guy--the characters face at the end of their adventures. On average, players had about 197 HP; this may lean heavily in favor of player characters that have HP above 200 and are at higher levels.\n",
        "```\n",
        "f2.HP.min()\n",
        "f2.HP.max()\n",
        "f2.HP.mean()\n",
        "```\n",
        "AC--Armor Class--is how durable a player character is. The higher the AC, the harder it is to deal damage to that character. Some classes have higher AC's than others due to the roles they take in combat, such as a Barbarian versus a Wizard. There are multiple factors that can affect an AC score such as the type of armor being worn, if the character is using a shield and has it equipped, if the player character has any feats, if the player has any special items or weapons equipped, or their ability scores. The minimum AC score a player character had was 7, whereas the maximum AC score a player character had was 66. Having such a low score means that nearly every attack will hit the player character; the opposite can be said about having a score of 66. With a 20 sided dice, proficiency bonuses, race and class bonuses, feat bonuses, and weapon bonuses, it can make it nearly impossible to roll high enough to actually do any damage to that player character, or potential BBEG. But on average, most players had about an AC of 16.\n",
        "```\n",
        "f2.AC.min()\n",
        "f2.AC.max()\n",
        "f2.AC.mean()\n",
        "```\n",
        "Player characters have access to a large body of weapons and spells. Within the dataset, some of the spells were found within 'weapons'. A large portion of the weapons were also of homebrew creation. Cross referencing the individual weapons before cleaning the data with official DND sourcebooks and adventure modules would be important in understanding where a large portion of the weapons are coming from. Making use of digital apps like DNDbeyond can only aid so far since some of their content is behind a paywall; users have to purchase digital sourcebooks in order to gain access to the content of the book to make use of in their digital character sheets. Sometimes weapons may be written in a book but are not included in a weapons table within a sourcebook or are not given a name. Players will create a large body of homebrew weapons items in order to defeat BBEG's that have an AC of 66 because there is only so much that can be done with bonuses and a 20 sided dice. That being said, the unique number of weapons that players had in the app were 519--including any homebrew, spells, other items, and other column information within 'weapons'. Overall, player characters stored Daggers 4446, Light Crossbow 2099, Quarterstaff 1937, Rapier 1900, and Shortsword 1820. Some of these items include special instances of those weapons or if player characters included a number of items they possessed, such as 3 Daggers. Instances like '3 Daggers' was normalized to 'Dagger' in order to better count across the multiclassed characters.\n",
        "```\n",
        "f2.weapons.nunique(dropna = True)\n",
        "f2.weapons.value_counts()\n",
        "```\n",
        "\n"
      ]
    },
    {
      "cell_type": "code",
      "metadata": {
        "colab": {
          "base_uri": "https://localhost:8080/"
        },
        "id": "TN9hvBgAl7ZI",
        "outputId": "df530570-7360-43bb-cbc3-6345d2db68b3"
      },
      "source": [
        "f2.weapons.nunique(dropna = True)"
      ],
      "execution_count": null,
      "outputs": [
        {
          "output_type": "execute_result",
          "data": {
            "text/plain": [
              "519"
            ]
          },
          "metadata": {
            "tags": []
          },
          "execution_count": 131
        }
      ]
    },
    {
      "cell_type": "code",
      "metadata": {
        "id": "ekXAd7u5rs5_"
      },
      "source": [
        "#f2.HP.unique()"
      ],
      "execution_count": null,
      "outputs": []
    },
    {
      "cell_type": "code",
      "metadata": {
        "colab": {
          "base_uri": "https://localhost:8080/"
        },
        "id": "jS2yad3rzIIX",
        "outputId": "f6df3e84-e25c-4ce9-e67a-21fcf08af593"
      },
      "source": [
        "f2.AC.mean()"
      ],
      "execution_count": null,
      "outputs": [
        {
          "output_type": "execute_result",
          "data": {
            "text/plain": [
              "16.41741939737588"
            ]
          },
          "metadata": {
            "tags": []
          },
          "execution_count": 130
        }
      ]
    },
    {
      "cell_type": "code",
      "metadata": {
        "colab": {
          "base_uri": "https://localhost:8080/"
        },
        "id": "kb6H2orat7Mp",
        "outputId": "68cefb9c-c46f-4175-e4ce-9499e0b76313"
      },
      "source": [
        "f2.background.value_counts()"
      ],
      "execution_count": null,
      "outputs": [
        {
          "output_type": "execute_result",
          "data": {
            "text/plain": [
              "Criminal                   3126\n",
              "Outlander                  2505\n",
              "Soldier                    1975\n",
              "Acolyte                    1825\n",
              "Charlatan                  1762\n",
              "                           ... \n",
              "Street Performer              1\n",
              "House Lyrandra Soldiers       1\n",
              "Secret Identity               1\n",
              "Izzet Member                  1\n",
              "Rakdos Cultist                1\n",
              "Name: background, Length: 144, dtype: int64"
            ]
          },
          "metadata": {
            "tags": []
          },
          "execution_count": 138
        }
      ]
    },
    {
      "cell_type": "code",
      "metadata": {
        "colab": {
          "base_uri": "https://localhost:8080/",
          "height": 655
        },
        "id": "f2JeZ4eXLwwi",
        "outputId": "2a751aa4-8676-4787-d591-f6fe91b47a07"
      },
      "source": [
        "#ORIGINAL DATA\n",
        "data"
      ],
      "execution_count": null,
      "outputs": [
        {
          "output_type": "execute_result",
          "data": {
            "text/html": [
              "<div>\n",
              "<style scoped>\n",
              "    .dataframe tbody tr th:only-of-type {\n",
              "        vertical-align: middle;\n",
              "    }\n",
              "\n",
              "    .dataframe tbody tr th {\n",
              "        vertical-align: top;\n",
              "    }\n",
              "\n",
              "    .dataframe thead th {\n",
              "        text-align: right;\n",
              "    }\n",
              "</style>\n",
              "<table border=\"1\" class=\"dataframe\">\n",
              "  <thead>\n",
              "    <tr style=\"text-align: right;\">\n",
              "      <th></th>\n",
              "      <th>ip</th>\n",
              "      <th>finger</th>\n",
              "      <th>hash</th>\n",
              "      <th>name</th>\n",
              "      <th>race</th>\n",
              "      <th>background</th>\n",
              "      <th>date</th>\n",
              "      <th>Class</th>\n",
              "      <th>classes</th>\n",
              "      <th>subclass</th>\n",
              "      <th>level</th>\n",
              "      <th>feats</th>\n",
              "      <th>HP</th>\n",
              "      <th>AC</th>\n",
              "      <th>Str</th>\n",
              "      <th>Dex</th>\n",
              "      <th>Con</th>\n",
              "      <th>Int</th>\n",
              "      <th>Wis</th>\n",
              "      <th>Cha</th>\n",
              "      <th>alignment</th>\n",
              "      <th>skills</th>\n",
              "      <th>weapons</th>\n",
              "      <th>spells</th>\n",
              "      <th>castingStat</th>\n",
              "      <th>choices</th>\n",
              "      <th>country</th>\n",
              "      <th>countryCode</th>\n",
              "      <th>processedAlignment</th>\n",
              "      <th>good</th>\n",
              "      <th>lawful</th>\n",
              "      <th>processedRace</th>\n",
              "      <th>processedSpells</th>\n",
              "      <th>processedWeapons</th>\n",
              "      <th>levelGroup</th>\n",
              "      <th>alias</th>\n",
              "    </tr>\n",
              "  </thead>\n",
              "  <tbody>\n",
              "    <tr>\n",
              "      <th>0</th>\n",
              "      <td>3e03f70</td>\n",
              "      <td>ce7ee03</td>\n",
              "      <td>9bd423c78df690360d2ced5046ebdf78</td>\n",
              "      <td>3aa08164</td>\n",
              "      <td>Forest Gnome</td>\n",
              "      <td>Sage</td>\n",
              "      <td>2020-11-08T04:57:28Z</td>\n",
              "      <td>Wizard 4</td>\n",
              "      <td>Wizard</td>\n",
              "      <td>School of Evocation</td>\n",
              "      <td>4</td>\n",
              "      <td>Fade Away</td>\n",
              "      <td>32</td>\n",
              "      <td>19</td>\n",
              "      <td>10</td>\n",
              "      <td>17</td>\n",
              "      <td>16</td>\n",
              "      <td>17</td>\n",
              "      <td>12</td>\n",
              "      <td>10</td>\n",
              "      <td>NaN</td>\n",
              "      <td>Arcana|History|Investigation|Insight</td>\n",
              "      <td>Quarterstaff</td>\n",
              "      <td>NaN</td>\n",
              "      <td>Int</td>\n",
              "      <td>NaN</td>\n",
              "      <td>United States</td>\n",
              "      <td>US</td>\n",
              "      <td>NaN</td>\n",
              "      <td>NaN</td>\n",
              "      <td>NaN</td>\n",
              "      <td>Gnome</td>\n",
              "      <td>NaN</td>\n",
              "      <td>Quarterstaff</td>\n",
              "      <td>4-7</td>\n",
              "      <td>musing_ptolemy</td>\n",
              "    </tr>\n",
              "    <tr>\n",
              "      <th>1</th>\n",
              "      <td>NaN</td>\n",
              "      <td>c18bdf4</td>\n",
              "      <td>f11203ed469352fa27a5b3cd87fd3d02</td>\n",
              "      <td>4e0ad948</td>\n",
              "      <td>Wood Elf</td>\n",
              "      <td>Noble</td>\n",
              "      <td>2020-11-07T00:49:38Z</td>\n",
              "      <td>Cleric 4|Druid 4</td>\n",
              "      <td>Cleric|Druid</td>\n",
              "      <td>Nature Domain|Circle of the Moon</td>\n",
              "      <td>8</td>\n",
              "      <td>Crossbow Expert</td>\n",
              "      <td>64</td>\n",
              "      <td>16</td>\n",
              "      <td>8</td>\n",
              "      <td>16</td>\n",
              "      <td>12</td>\n",
              "      <td>13</td>\n",
              "      <td>18</td>\n",
              "      <td>10</td>\n",
              "      <td>NaN</td>\n",
              "      <td>History|Nature|Religion|Insight|Perception|Per...</td>\n",
              "      <td>Mace|Crossbow, light</td>\n",
              "      <td>Produce Flame*0|Infestation*0|Thorn Whip*0|Sac...</td>\n",
              "      <td>Wis</td>\n",
              "      <td>NaN</td>\n",
              "      <td>Canada</td>\n",
              "      <td>CA</td>\n",
              "      <td>NaN</td>\n",
              "      <td>NaN</td>\n",
              "      <td>NaN</td>\n",
              "      <td>Elf</td>\n",
              "      <td>Produce Flame*0|Infestation*0|Thorn Whip*0|Sac...</td>\n",
              "      <td>Mace|Crossbow, Light</td>\n",
              "      <td>8-11</td>\n",
              "      <td>hopeful_galois</td>\n",
              "    </tr>\n",
              "    <tr>\n",
              "      <th>2</th>\n",
              "      <td>NaN</td>\n",
              "      <td>c18bdf4</td>\n",
              "      <td>f208eab28a78733a6d8576288dc07608</td>\n",
              "      <td>4599bca4</td>\n",
              "      <td>Half-Elf</td>\n",
              "      <td>Noble</td>\n",
              "      <td>2020-11-07T00:49:06Z</td>\n",
              "      <td>Warlock 8</td>\n",
              "      <td>Warlock</td>\n",
              "      <td>The Archfey</td>\n",
              "      <td>8</td>\n",
              "      <td>NaN</td>\n",
              "      <td>80</td>\n",
              "      <td>14</td>\n",
              "      <td>8</td>\n",
              "      <td>16</td>\n",
              "      <td>16</td>\n",
              "      <td>12</td>\n",
              "      <td>10</td>\n",
              "      <td>18</td>\n",
              "      <td>NaN</td>\n",
              "      <td>History|Investigation|Nature|Religion|Deceptio...</td>\n",
              "      <td>Crossbow, light|Dagger</td>\n",
              "      <td>Eldritch Blast*0|Poison Spray*0|Thunderclap*0|...</td>\n",
              "      <td>Cha</td>\n",
              "      <td>pact boon/Pact of the Chain|eldritch invocatio...</td>\n",
              "      <td>Canada</td>\n",
              "      <td>CA</td>\n",
              "      <td>NaN</td>\n",
              "      <td>NaN</td>\n",
              "      <td>NaN</td>\n",
              "      <td>Half-Elf</td>\n",
              "      <td>Eldritch Blast*0|Poison Spray*0|Thunderclap*0|...</td>\n",
              "      <td>Crossbow, Light|Dagger</td>\n",
              "      <td>8-11</td>\n",
              "      <td>jovial_lichterman</td>\n",
              "    </tr>\n",
              "    <tr>\n",
              "      <th>3</th>\n",
              "      <td>7e92cf6</td>\n",
              "      <td>94bc9ab</td>\n",
              "      <td>26926b36d392aca86494ad426df614ac</td>\n",
              "      <td>083eee89</td>\n",
              "      <td>Human</td>\n",
              "      <td>Sage</td>\n",
              "      <td>2020-11-07T00:09:00Z</td>\n",
              "      <td>Artificer 9</td>\n",
              "      <td>Artificer</td>\n",
              "      <td>Artillerist</td>\n",
              "      <td>9</td>\n",
              "      <td>War Caster</td>\n",
              "      <td>66</td>\n",
              "      <td>20</td>\n",
              "      <td>8</td>\n",
              "      <td>14</td>\n",
              "      <td>14</td>\n",
              "      <td>20</td>\n",
              "      <td>12</td>\n",
              "      <td>10</td>\n",
              "      <td>NaN</td>\n",
              "      <td>Sleight of Hand|Arcana|History|Investigation|P...</td>\n",
              "      <td>Dagger|Quarterstaff|Crossbow, light|Ray Of Frost</td>\n",
              "      <td>Mending*0|Ray Of Frost*0|Shield*1|Thunderwave*...</td>\n",
              "      <td>Int</td>\n",
              "      <td>NaN</td>\n",
              "      <td>United States</td>\n",
              "      <td>US</td>\n",
              "      <td>NaN</td>\n",
              "      <td>NaN</td>\n",
              "      <td>NaN</td>\n",
              "      <td>Human</td>\n",
              "      <td>Mending*0|Ray of Frost*0|Shield*1|Thunderwave*...</td>\n",
              "      <td>Dagger|Quarterstaff|Crossbow, Light|</td>\n",
              "      <td>8-11</td>\n",
              "      <td>clever_brahmagupta</td>\n",
              "    </tr>\n",
              "    <tr>\n",
              "      <th>4</th>\n",
              "      <td>596751a</td>\n",
              "      <td>3ad58cf</td>\n",
              "      <td>7a97028e91c6d2ee792cadb39f301ec6</td>\n",
              "      <td>9e6103b7</td>\n",
              "      <td>Turtle</td>\n",
              "      <td>Urban Bounty Hunter</td>\n",
              "      <td>2020-11-06T22:28:55Z</td>\n",
              "      <td>Monk 7</td>\n",
              "      <td>Monk</td>\n",
              "      <td>Way of the Four Elements</td>\n",
              "      <td>7</td>\n",
              "      <td>NaN</td>\n",
              "      <td>52</td>\n",
              "      <td>20</td>\n",
              "      <td>12</td>\n",
              "      <td>18</td>\n",
              "      <td>15</td>\n",
              "      <td>12</td>\n",
              "      <td>16</td>\n",
              "      <td>8</td>\n",
              "      <td>NaN</td>\n",
              "      <td>Acrobatics|Stealth|History|Insight|Survival</td>\n",
              "      <td>Quarterstaff|Dart|Unarmed Strike|Katana +1</td>\n",
              "      <td>NaN</td>\n",
              "      <td>Int</td>\n",
              "      <td>elemental disciplines/Fangs of the Fire Snake</td>\n",
              "      <td>NaN</td>\n",
              "      <td>NaN</td>\n",
              "      <td>NaN</td>\n",
              "      <td>NaN</td>\n",
              "      <td>NaN</td>\n",
              "      <td>Turtle</td>\n",
              "      <td>NaN</td>\n",
              "      <td>Quarterstaff|Dart|Unarmed Strike|</td>\n",
              "      <td>4-7</td>\n",
              "      <td>magical_feynman</td>\n",
              "    </tr>\n",
              "    <tr>\n",
              "      <th>...</th>\n",
              "      <td>...</td>\n",
              "      <td>...</td>\n",
              "      <td>...</td>\n",
              "      <td>...</td>\n",
              "      <td>...</td>\n",
              "      <td>...</td>\n",
              "      <td>...</td>\n",
              "      <td>...</td>\n",
              "      <td>...</td>\n",
              "      <td>...</td>\n",
              "      <td>...</td>\n",
              "      <td>...</td>\n",
              "      <td>...</td>\n",
              "      <td>...</td>\n",
              "      <td>...</td>\n",
              "      <td>...</td>\n",
              "      <td>...</td>\n",
              "      <td>...</td>\n",
              "      <td>...</td>\n",
              "      <td>...</td>\n",
              "      <td>...</td>\n",
              "      <td>...</td>\n",
              "      <td>...</td>\n",
              "      <td>...</td>\n",
              "      <td>...</td>\n",
              "      <td>...</td>\n",
              "      <td>...</td>\n",
              "      <td>...</td>\n",
              "      <td>...</td>\n",
              "      <td>...</td>\n",
              "      <td>...</td>\n",
              "      <td>...</td>\n",
              "      <td>...</td>\n",
              "      <td>...</td>\n",
              "      <td>...</td>\n",
              "      <td>...</td>\n",
              "    </tr>\n",
              "    <tr>\n",
              "      <th>8606</th>\n",
              "      <td>d580ce9</td>\n",
              "      <td>d580ce9</td>\n",
              "      <td>05998a5e27f3b8f14b58644ca9a10d42</td>\n",
              "      <td>bcf1fa28</td>\n",
              "      <td>Half-Elf</td>\n",
              "      <td>Mercenary Veteran</td>\n",
              "      <td>2018-04-07T15:40:55Z</td>\n",
              "      <td>Ranger 3</td>\n",
              "      <td>Ranger</td>\n",
              "      <td>Beast Master</td>\n",
              "      <td>3</td>\n",
              "      <td>NaN</td>\n",
              "      <td>32</td>\n",
              "      <td>16</td>\n",
              "      <td>10</td>\n",
              "      <td>16</td>\n",
              "      <td>14</td>\n",
              "      <td>13</td>\n",
              "      <td>13</td>\n",
              "      <td>10</td>\n",
              "      <td>NaN</td>\n",
              "      <td>Athletics|Stealth|Animal Handling|Insight|Medi...</td>\n",
              "      <td>Shortsword|Crossbow, light</td>\n",
              "      <td>NaN</td>\n",
              "      <td>Wis</td>\n",
              "      <td>fighting style/Archery</td>\n",
              "      <td>NaN</td>\n",
              "      <td>NaN</td>\n",
              "      <td>NaN</td>\n",
              "      <td>NaN</td>\n",
              "      <td>NaN</td>\n",
              "      <td>Half-Elf</td>\n",
              "      <td>NaN</td>\n",
              "      <td>Shortsword|Crossbow, Light</td>\n",
              "      <td>1-3</td>\n",
              "      <td>nervous_goldstine</td>\n",
              "    </tr>\n",
              "    <tr>\n",
              "      <th>8607</th>\n",
              "      <td>d580ce9</td>\n",
              "      <td>d580ce9</td>\n",
              "      <td>43b6a7471fb30ccd959287e6a2c7a903</td>\n",
              "      <td>b923bffb</td>\n",
              "      <td>Human</td>\n",
              "      <td>Far Traveler</td>\n",
              "      <td>2018-04-07T15:22:46Z</td>\n",
              "      <td>Druid 2|Bard 2</td>\n",
              "      <td>Druid|Bard</td>\n",
              "      <td>Circle of the Moon|</td>\n",
              "      <td>4</td>\n",
              "      <td>NaN</td>\n",
              "      <td>33</td>\n",
              "      <td>15</td>\n",
              "      <td>11</td>\n",
              "      <td>15</td>\n",
              "      <td>13</td>\n",
              "      <td>9</td>\n",
              "      <td>16</td>\n",
              "      <td>14</td>\n",
              "      <td>NaN</td>\n",
              "      <td>Nature|Animal Handling|Insight|Medicine|Percep...</td>\n",
              "      <td>Scimitar</td>\n",
              "      <td>NaN</td>\n",
              "      <td>Wis</td>\n",
              "      <td>NaN</td>\n",
              "      <td>NaN</td>\n",
              "      <td>NaN</td>\n",
              "      <td>NaN</td>\n",
              "      <td>NaN</td>\n",
              "      <td>NaN</td>\n",
              "      <td>Human</td>\n",
              "      <td>NaN</td>\n",
              "      <td>Scimitar</td>\n",
              "      <td>4-7</td>\n",
              "      <td>gallant_hugle</td>\n",
              "    </tr>\n",
              "    <tr>\n",
              "      <th>8608</th>\n",
              "      <td>d580ce9</td>\n",
              "      <td>d580ce9</td>\n",
              "      <td>c224994d1134d58ae83dd5618ce192e9</td>\n",
              "      <td>5fcc1db9</td>\n",
              "      <td>Dragonborn</td>\n",
              "      <td>Noble</td>\n",
              "      <td>2018-04-07T09:21:55Z</td>\n",
              "      <td>Paladin 6</td>\n",
              "      <td>Paladin</td>\n",
              "      <td>Oath of Ancients</td>\n",
              "      <td>6</td>\n",
              "      <td>NaN</td>\n",
              "      <td>58</td>\n",
              "      <td>19</td>\n",
              "      <td>20</td>\n",
              "      <td>13</td>\n",
              "      <td>15</td>\n",
              "      <td>10</td>\n",
              "      <td>12</td>\n",
              "      <td>16</td>\n",
              "      <td>CG</td>\n",
              "      <td>Athletics|History|Intimidation|Persuasion</td>\n",
              "      <td>Longsword|Javelin</td>\n",
              "      <td>Ensnaring Strike*1|Speak with Animals*1|Cure W...</td>\n",
              "      <td>Cha</td>\n",
              "      <td>fighting style/Great Weapon Fighting</td>\n",
              "      <td>NaN</td>\n",
              "      <td>NaN</td>\n",
              "      <td>CG</td>\n",
              "      <td>NaN</td>\n",
              "      <td>NaN</td>\n",
              "      <td>Dragonborn</td>\n",
              "      <td>Ensnaring Strike*1|Speak with Animals*1|Cure W...</td>\n",
              "      <td>Longsword|Javelin</td>\n",
              "      <td>4-7</td>\n",
              "      <td>condescending_lederberg</td>\n",
              "    </tr>\n",
              "    <tr>\n",
              "      <th>8609</th>\n",
              "      <td>d580ce9</td>\n",
              "      <td>d580ce9</td>\n",
              "      <td>3ea236dcfd2ecde78718881fe8e619b6</td>\n",
              "      <td>acc2a5e1</td>\n",
              "      <td>Meadowguard</td>\n",
              "      <td>Acolyte</td>\n",
              "      <td>2018-04-07T08:04:10Z</td>\n",
              "      <td>Bard 1</td>\n",
              "      <td>Bard</td>\n",
              "      <td>NaN</td>\n",
              "      <td>1</td>\n",
              "      <td>NaN</td>\n",
              "      <td>10</td>\n",
              "      <td>14</td>\n",
              "      <td>8</td>\n",
              "      <td>16</td>\n",
              "      <td>13</td>\n",
              "      <td>11</td>\n",
              "      <td>13</td>\n",
              "      <td>16</td>\n",
              "      <td>NaN</td>\n",
              "      <td>Acrobatics|History|Investigation|Religion|Insi...</td>\n",
              "      <td>Dagger|Dagger</td>\n",
              "      <td>Mending*0|Light*0|Minor illusion*0|Heroism*1|H...</td>\n",
              "      <td>Cha</td>\n",
              "      <td>NaN</td>\n",
              "      <td>NaN</td>\n",
              "      <td>NaN</td>\n",
              "      <td>NaN</td>\n",
              "      <td>NaN</td>\n",
              "      <td>NaN</td>\n",
              "      <td>NaN</td>\n",
              "      <td>Mending*0|Light*0|Minor Illusion*0|Heroism*1|H...</td>\n",
              "      <td>Dagger|Dagger</td>\n",
              "      <td>1-3</td>\n",
              "      <td>relaxed_cori</td>\n",
              "    </tr>\n",
              "    <tr>\n",
              "      <th>8610</th>\n",
              "      <td>d580ce9</td>\n",
              "      <td>d580ce9</td>\n",
              "      <td>1dc08f9e4350dc3e758b73a419029f20</td>\n",
              "      <td>38188e7b</td>\n",
              "      <td>Deep Gnome</td>\n",
              "      <td>Haunted One</td>\n",
              "      <td>2018-04-06T23:48:15Z</td>\n",
              "      <td>Rogue 2</td>\n",
              "      <td>Rogue</td>\n",
              "      <td>NaN</td>\n",
              "      <td>2</td>\n",
              "      <td>NaN</td>\n",
              "      <td>17</td>\n",
              "      <td>13</td>\n",
              "      <td>9</td>\n",
              "      <td>16</td>\n",
              "      <td>15</td>\n",
              "      <td>14</td>\n",
              "      <td>10</td>\n",
              "      <td>10</td>\n",
              "      <td>NaN</td>\n",
              "      <td>Investigation|Religion|Deception|Intimidation</td>\n",
              "      <td>Rapier|Shortbow|Dagger</td>\n",
              "      <td>NaN</td>\n",
              "      <td>Int</td>\n",
              "      <td>expertise/Religion*Intimidation</td>\n",
              "      <td>NaN</td>\n",
              "      <td>NaN</td>\n",
              "      <td>NaN</td>\n",
              "      <td>NaN</td>\n",
              "      <td>NaN</td>\n",
              "      <td>Gnome</td>\n",
              "      <td>NaN</td>\n",
              "      <td>Rapier|Shortbow|Dagger</td>\n",
              "      <td>1-3</td>\n",
              "      <td>admiring_payne</td>\n",
              "    </tr>\n",
              "  </tbody>\n",
              "</table>\n",
              "<p>8611 rows × 36 columns</p>\n",
              "</div>"
            ],
            "text/plain": [
              "           ip   finger  ... levelGroup                    alias\n",
              "0     3e03f70  ce7ee03  ...        4-7           musing_ptolemy\n",
              "1         NaN  c18bdf4  ...       8-11           hopeful_galois\n",
              "2         NaN  c18bdf4  ...       8-11        jovial_lichterman\n",
              "3     7e92cf6  94bc9ab  ...       8-11       clever_brahmagupta\n",
              "4     596751a  3ad58cf  ...        4-7          magical_feynman\n",
              "...       ...      ...  ...        ...                      ...\n",
              "8606  d580ce9  d580ce9  ...        1-3        nervous_goldstine\n",
              "8607  d580ce9  d580ce9  ...        4-7            gallant_hugle\n",
              "8608  d580ce9  d580ce9  ...        4-7  condescending_lederberg\n",
              "8609  d580ce9  d580ce9  ...        1-3             relaxed_cori\n",
              "8610  d580ce9  d580ce9  ...        1-3           admiring_payne\n",
              "\n",
              "[8611 rows x 36 columns]"
            ]
          },
          "metadata": {
            "tags": []
          },
          "execution_count": 139
        }
      ]
    },
    {
      "cell_type": "code",
      "metadata": {
        "colab": {
          "base_uri": "https://localhost:8080/",
          "height": 447
        },
        "id": "xm_Ea8qpL1Ej",
        "outputId": "2c0ac99f-127c-468f-b1b8-281cdeccda4a"
      },
      "source": [
        "#FINAL DATA\n",
        "f2"
      ],
      "execution_count": null,
      "outputs": [
        {
          "output_type": "execute_result",
          "data": {
            "text/html": [
              "<div>\n",
              "<style scoped>\n",
              "    .dataframe tbody tr th:only-of-type {\n",
              "        vertical-align: middle;\n",
              "    }\n",
              "\n",
              "    .dataframe tbody tr th {\n",
              "        vertical-align: top;\n",
              "    }\n",
              "\n",
              "    .dataframe thead th {\n",
              "        text-align: right;\n",
              "    }\n",
              "</style>\n",
              "<table border=\"1\" class=\"dataframe\">\n",
              "  <thead>\n",
              "    <tr style=\"text-align: right;\">\n",
              "      <th></th>\n",
              "      <th>race</th>\n",
              "      <th>classes</th>\n",
              "      <th>subclass</th>\n",
              "      <th>background</th>\n",
              "      <th>level</th>\n",
              "      <th>feats</th>\n",
              "      <th>HP</th>\n",
              "      <th>AC</th>\n",
              "      <th>Str</th>\n",
              "      <th>Dex</th>\n",
              "      <th>Con</th>\n",
              "      <th>Int</th>\n",
              "      <th>Wis</th>\n",
              "      <th>Cha</th>\n",
              "      <th>weapons</th>\n",
              "      <th>castingStat</th>\n",
              "      <th>alignment</th>\n",
              "      <th>Count_Column</th>\n",
              "    </tr>\n",
              "    <tr>\n",
              "      <th>name</th>\n",
              "      <th></th>\n",
              "      <th></th>\n",
              "      <th></th>\n",
              "      <th></th>\n",
              "      <th></th>\n",
              "      <th></th>\n",
              "      <th></th>\n",
              "      <th></th>\n",
              "      <th></th>\n",
              "      <th></th>\n",
              "      <th></th>\n",
              "      <th></th>\n",
              "      <th></th>\n",
              "      <th></th>\n",
              "      <th></th>\n",
              "      <th></th>\n",
              "      <th></th>\n",
              "      <th></th>\n",
              "    </tr>\n",
              "  </thead>\n",
              "  <tbody>\n",
              "    <tr>\n",
              "      <th>3aa08164</th>\n",
              "      <td>Forest Gnome</td>\n",
              "      <td>Wizard</td>\n",
              "      <td>School of Evocation</td>\n",
              "      <td>Sage</td>\n",
              "      <td>4</td>\n",
              "      <td>Fade Away</td>\n",
              "      <td>32</td>\n",
              "      <td>19</td>\n",
              "      <td>10</td>\n",
              "      <td>17</td>\n",
              "      <td>16</td>\n",
              "      <td>17</td>\n",
              "      <td>12</td>\n",
              "      <td>10</td>\n",
              "      <td>Quarterstaff</td>\n",
              "      <td>Int</td>\n",
              "      <td>NaN</td>\n",
              "      <td>381.0</td>\n",
              "    </tr>\n",
              "    <tr>\n",
              "      <th>4e0ad948</th>\n",
              "      <td>Wood Elf</td>\n",
              "      <td>Cleric</td>\n",
              "      <td>Nature Domain</td>\n",
              "      <td>Noble</td>\n",
              "      <td>8</td>\n",
              "      <td>Crossbow Expert</td>\n",
              "      <td>64</td>\n",
              "      <td>16</td>\n",
              "      <td>8</td>\n",
              "      <td>16</td>\n",
              "      <td>12</td>\n",
              "      <td>13</td>\n",
              "      <td>18</td>\n",
              "      <td>10</td>\n",
              "      <td>Mace</td>\n",
              "      <td>Wis</td>\n",
              "      <td>NaN</td>\n",
              "      <td>1628.0</td>\n",
              "    </tr>\n",
              "    <tr>\n",
              "      <th>4e0ad948</th>\n",
              "      <td>Wood Elf</td>\n",
              "      <td>Cleric</td>\n",
              "      <td>Nature Domain</td>\n",
              "      <td>Noble</td>\n",
              "      <td>8</td>\n",
              "      <td>Crossbow Expert</td>\n",
              "      <td>64</td>\n",
              "      <td>16</td>\n",
              "      <td>8</td>\n",
              "      <td>16</td>\n",
              "      <td>12</td>\n",
              "      <td>13</td>\n",
              "      <td>18</td>\n",
              "      <td>10</td>\n",
              "      <td>Light Crossbow</td>\n",
              "      <td>Wis</td>\n",
              "      <td>NaN</td>\n",
              "      <td>1628.0</td>\n",
              "    </tr>\n",
              "    <tr>\n",
              "      <th>4e0ad948</th>\n",
              "      <td>Wood Elf</td>\n",
              "      <td>Druid</td>\n",
              "      <td>Circle of the Moon</td>\n",
              "      <td>Noble</td>\n",
              "      <td>8</td>\n",
              "      <td>Crossbow Expert</td>\n",
              "      <td>64</td>\n",
              "      <td>16</td>\n",
              "      <td>8</td>\n",
              "      <td>16</td>\n",
              "      <td>12</td>\n",
              "      <td>13</td>\n",
              "      <td>18</td>\n",
              "      <td>10</td>\n",
              "      <td>Mace</td>\n",
              "      <td>Wis</td>\n",
              "      <td>NaN</td>\n",
              "      <td>1628.0</td>\n",
              "    </tr>\n",
              "    <tr>\n",
              "      <th>4e0ad948</th>\n",
              "      <td>Wood Elf</td>\n",
              "      <td>Druid</td>\n",
              "      <td>Circle of the Moon</td>\n",
              "      <td>Noble</td>\n",
              "      <td>8</td>\n",
              "      <td>Crossbow Expert</td>\n",
              "      <td>64</td>\n",
              "      <td>16</td>\n",
              "      <td>8</td>\n",
              "      <td>16</td>\n",
              "      <td>12</td>\n",
              "      <td>13</td>\n",
              "      <td>18</td>\n",
              "      <td>10</td>\n",
              "      <td>Light Crossbow</td>\n",
              "      <td>Wis</td>\n",
              "      <td>NaN</td>\n",
              "      <td>1628.0</td>\n",
              "    </tr>\n",
              "    <tr>\n",
              "      <th>...</th>\n",
              "      <td>...</td>\n",
              "      <td>...</td>\n",
              "      <td>...</td>\n",
              "      <td>...</td>\n",
              "      <td>...</td>\n",
              "      <td>...</td>\n",
              "      <td>...</td>\n",
              "      <td>...</td>\n",
              "      <td>...</td>\n",
              "      <td>...</td>\n",
              "      <td>...</td>\n",
              "      <td>...</td>\n",
              "      <td>...</td>\n",
              "      <td>...</td>\n",
              "      <td>...</td>\n",
              "      <td>...</td>\n",
              "      <td>...</td>\n",
              "      <td>...</td>\n",
              "    </tr>\n",
              "    <tr>\n",
              "      <th>acc2a5e1</th>\n",
              "      <td>Meadowguard</td>\n",
              "      <td>Bard</td>\n",
              "      <td>NaN</td>\n",
              "      <td>Acolyte</td>\n",
              "      <td>1</td>\n",
              "      <td>NaN</td>\n",
              "      <td>10</td>\n",
              "      <td>14</td>\n",
              "      <td>8</td>\n",
              "      <td>16</td>\n",
              "      <td>13</td>\n",
              "      <td>11</td>\n",
              "      <td>13</td>\n",
              "      <td>16</td>\n",
              "      <td>Dagger</td>\n",
              "      <td>Cha</td>\n",
              "      <td>NaN</td>\n",
              "      <td>6.0</td>\n",
              "    </tr>\n",
              "    <tr>\n",
              "      <th>acc2a5e1</th>\n",
              "      <td>Meadowguard</td>\n",
              "      <td>Bard</td>\n",
              "      <td>NaN</td>\n",
              "      <td>Acolyte</td>\n",
              "      <td>1</td>\n",
              "      <td>NaN</td>\n",
              "      <td>10</td>\n",
              "      <td>14</td>\n",
              "      <td>8</td>\n",
              "      <td>16</td>\n",
              "      <td>13</td>\n",
              "      <td>11</td>\n",
              "      <td>13</td>\n",
              "      <td>16</td>\n",
              "      <td>Dagger</td>\n",
              "      <td>Cha</td>\n",
              "      <td>NaN</td>\n",
              "      <td>6.0</td>\n",
              "    </tr>\n",
              "    <tr>\n",
              "      <th>38188e7b</th>\n",
              "      <td>Deep Gnome</td>\n",
              "      <td>Rogue</td>\n",
              "      <td>NaN</td>\n",
              "      <td>Haunted One</td>\n",
              "      <td>2</td>\n",
              "      <td>NaN</td>\n",
              "      <td>17</td>\n",
              "      <td>13</td>\n",
              "      <td>9</td>\n",
              "      <td>16</td>\n",
              "      <td>15</td>\n",
              "      <td>14</td>\n",
              "      <td>10</td>\n",
              "      <td>10</td>\n",
              "      <td>Rapier</td>\n",
              "      <td>Int</td>\n",
              "      <td>NaN</td>\n",
              "      <td>117.0</td>\n",
              "    </tr>\n",
              "    <tr>\n",
              "      <th>38188e7b</th>\n",
              "      <td>Deep Gnome</td>\n",
              "      <td>Rogue</td>\n",
              "      <td>NaN</td>\n",
              "      <td>Haunted One</td>\n",
              "      <td>2</td>\n",
              "      <td>NaN</td>\n",
              "      <td>17</td>\n",
              "      <td>13</td>\n",
              "      <td>9</td>\n",
              "      <td>16</td>\n",
              "      <td>15</td>\n",
              "      <td>14</td>\n",
              "      <td>10</td>\n",
              "      <td>10</td>\n",
              "      <td>Shortbow</td>\n",
              "      <td>Int</td>\n",
              "      <td>NaN</td>\n",
              "      <td>117.0</td>\n",
              "    </tr>\n",
              "    <tr>\n",
              "      <th>38188e7b</th>\n",
              "      <td>Deep Gnome</td>\n",
              "      <td>Rogue</td>\n",
              "      <td>NaN</td>\n",
              "      <td>Haunted One</td>\n",
              "      <td>2</td>\n",
              "      <td>NaN</td>\n",
              "      <td>17</td>\n",
              "      <td>13</td>\n",
              "      <td>9</td>\n",
              "      <td>16</td>\n",
              "      <td>15</td>\n",
              "      <td>14</td>\n",
              "      <td>10</td>\n",
              "      <td>10</td>\n",
              "      <td>Dagger</td>\n",
              "      <td>Int</td>\n",
              "      <td>NaN</td>\n",
              "      <td>117.0</td>\n",
              "    </tr>\n",
              "  </tbody>\n",
              "</table>\n",
              "<p>30334 rows × 18 columns</p>\n",
              "</div>"
            ],
            "text/plain": [
              "                  race classes  ... alignment Count_Column\n",
              "name                            ...                       \n",
              "3aa08164  Forest Gnome  Wizard  ...       NaN        381.0\n",
              "4e0ad948      Wood Elf  Cleric  ...       NaN       1628.0\n",
              "4e0ad948      Wood Elf  Cleric  ...       NaN       1628.0\n",
              "4e0ad948      Wood Elf   Druid  ...       NaN       1628.0\n",
              "4e0ad948      Wood Elf   Druid  ...       NaN       1628.0\n",
              "...                ...     ...  ...       ...          ...\n",
              "acc2a5e1   Meadowguard    Bard  ...       NaN          6.0\n",
              "acc2a5e1   Meadowguard    Bard  ...       NaN          6.0\n",
              "38188e7b    Deep Gnome   Rogue  ...       NaN        117.0\n",
              "38188e7b    Deep Gnome   Rogue  ...       NaN        117.0\n",
              "38188e7b    Deep Gnome   Rogue  ...       NaN        117.0\n",
              "\n",
              "[30334 rows x 18 columns]"
            ]
          },
          "metadata": {
            "tags": []
          },
          "execution_count": 140
        }
      ]
    }
  ]
}